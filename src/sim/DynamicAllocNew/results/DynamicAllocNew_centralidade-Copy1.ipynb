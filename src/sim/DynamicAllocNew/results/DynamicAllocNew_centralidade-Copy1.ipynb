{
 "cells": [
  {
   "cell_type": "code",
   "execution_count": 1,
   "metadata": {},
   "outputs": [],
   "source": [
    "import pandas as pd\n",
    "import matplotlib.pyplot as plt\n",
    "import networkx as nx\n",
    "import numpy as np\n",
    "import collections\n",
    "from scipy import stats"
   ]
  },
  {
   "cell_type": "code",
   "execution_count": 2,
   "metadata": {},
   "outputs": [],
   "source": [
    "df = pd.read_csv('sim_trace.csv')\n",
    "# como otimizar a quantidade de recebedores alocados.\n",
    "# 1 - arrumar as escalas do gráfico\n",
    "# 2 - rodar o numero médio de saltos tempo(eixo x)\n",
    "# 3 - Enviar imagens whats explicando a alocação por tempo e a melhora da latecia pela centralidade em comparação com a aleatória\n",
    "# 4 - Trocar a alocação por tempo por alocação por demanda (checagem de melhora na latencia a cada nova alocação)\n",
    "# Isto é, se há a necessidade de alocar mais recebedores?"
   ]
  },
  {
   "cell_type": "code",
   "execution_count": 3,
   "metadata": {},
   "outputs": [
    {
     "name": "stdout",
     "output_type": "stream",
     "text": [
      "<class 'pandas.core.frame.DataFrame'>\n",
      "RangeIndex: 77 entries, 0 to 76\n",
      "Data columns (total 15 columns):\n",
      " #   Column          Non-Null Count  Dtype  \n",
      "---  ------          --------------  -----  \n",
      " 0   id              77 non-null     int64  \n",
      " 1   type            77 non-null     object \n",
      " 2   app             77 non-null     int64  \n",
      " 3   module          77 non-null     object \n",
      " 4   message         77 non-null     object \n",
      " 5   DES.src         77 non-null     int64  \n",
      " 6   DES.dst         77 non-null     int64  \n",
      " 7   TOPO.src        77 non-null     int64  \n",
      " 8   TOPO.dst        77 non-null     int64  \n",
      " 9   module.src      77 non-null     object \n",
      " 10  service         77 non-null     float64\n",
      " 11  time_in         77 non-null     float64\n",
      " 12  time_out        77 non-null     float64\n",
      " 13  time_emit       77 non-null     float64\n",
      " 14  time_reception  77 non-null     float64\n",
      "dtypes: float64(5), int64(6), object(4)\n",
      "memory usage: 9.1+ KB\n"
     ]
    }
   ],
   "source": [
    "df.info()"
   ]
  },
  {
   "cell_type": "code",
   "execution_count": 4,
   "metadata": {},
   "outputs": [],
   "source": [
    "df[\"time_latency\"] = df[\"time_reception\"] - df[\"time_emit\"]\n",
    "df[\"time_wait\"] = df[\"time_in\"] - df[\"time_reception\"]  \n",
    "df[\"time_service\"] = df[\"time_out\"] - df[\"time_in\"]\n",
    "df[\"time_response\"] = df[\"time_out\"] - df[\"time_reception\"]\n",
    "df[\"time_total_response\"] = df[\"time_response\"] + df[\"time_latency\"]"
   ]
  },
  {
   "cell_type": "code",
   "execution_count": 5,
   "metadata": {},
   "outputs": [],
   "source": [
    "# convert index to date type in order to use resample and agreegate functions of pandas\n",
    "df[\"date\"]=df.time_in.astype('datetime64[s]')\n",
    "df.index = df.date"
   ]
  },
  {
   "cell_type": "code",
   "execution_count": 6,
   "metadata": {},
   "outputs": [
    {
     "data": {
      "text/html": [
       "<div>\n",
       "<style scoped>\n",
       "    .dataframe tbody tr th:only-of-type {\n",
       "        vertical-align: middle;\n",
       "    }\n",
       "\n",
       "    .dataframe tbody tr th {\n",
       "        vertical-align: top;\n",
       "    }\n",
       "\n",
       "    .dataframe thead th {\n",
       "        text-align: right;\n",
       "    }\n",
       "</style>\n",
       "<table border=\"1\" class=\"dataframe\">\n",
       "  <thead>\n",
       "    <tr style=\"text-align: right;\">\n",
       "      <th></th>\n",
       "      <th>id</th>\n",
       "      <th>type</th>\n",
       "      <th>app</th>\n",
       "      <th>module</th>\n",
       "      <th>message</th>\n",
       "      <th>DES.src</th>\n",
       "      <th>DES.dst</th>\n",
       "      <th>TOPO.src</th>\n",
       "      <th>TOPO.dst</th>\n",
       "      <th>module.src</th>\n",
       "      <th>...</th>\n",
       "      <th>time_in</th>\n",
       "      <th>time_out</th>\n",
       "      <th>time_emit</th>\n",
       "      <th>time_reception</th>\n",
       "      <th>time_latency</th>\n",
       "      <th>time_wait</th>\n",
       "      <th>time_service</th>\n",
       "      <th>time_response</th>\n",
       "      <th>time_total_response</th>\n",
       "      <th>date</th>\n",
       "    </tr>\n",
       "    <tr>\n",
       "      <th>date</th>\n",
       "      <th></th>\n",
       "      <th></th>\n",
       "      <th></th>\n",
       "      <th></th>\n",
       "      <th></th>\n",
       "      <th></th>\n",
       "      <th></th>\n",
       "      <th></th>\n",
       "      <th></th>\n",
       "      <th></th>\n",
       "      <th></th>\n",
       "      <th></th>\n",
       "      <th></th>\n",
       "      <th></th>\n",
       "      <th></th>\n",
       "      <th></th>\n",
       "      <th></th>\n",
       "      <th></th>\n",
       "      <th></th>\n",
       "      <th></th>\n",
       "      <th></th>\n",
       "    </tr>\n",
       "  </thead>\n",
       "  <tbody>\n",
       "    <tr>\n",
       "      <th>1970-01-01 00:01:41</th>\n",
       "      <td>1</td>\n",
       "      <td>COMP_M</td>\n",
       "      <td>0</td>\n",
       "      <td>0_01</td>\n",
       "      <td>M.USER.APP.0</td>\n",
       "      <td>0</td>\n",
       "      <td>8</td>\n",
       "      <td>1</td>\n",
       "      <td>0</td>\n",
       "      <td>None</td>\n",
       "      <td>...</td>\n",
       "      <td>101.00002</td>\n",
       "      <td>101.15002</td>\n",
       "      <td>100.0</td>\n",
       "      <td>101.00002</td>\n",
       "      <td>1.00002</td>\n",
       "      <td>0.00</td>\n",
       "      <td>0.15</td>\n",
       "      <td>0.15</td>\n",
       "      <td>1.15002</td>\n",
       "      <td>1970-01-01 00:01:41</td>\n",
       "    </tr>\n",
       "    <tr>\n",
       "      <th>1970-01-01 00:01:41</th>\n",
       "      <td>4</td>\n",
       "      <td>COMP_M</td>\n",
       "      <td>0</td>\n",
       "      <td>0_01</td>\n",
       "      <td>M.USER.APP.0</td>\n",
       "      <td>3</td>\n",
       "      <td>8</td>\n",
       "      <td>4</td>\n",
       "      <td>0</td>\n",
       "      <td>None</td>\n",
       "      <td>...</td>\n",
       "      <td>101.15002</td>\n",
       "      <td>101.30002</td>\n",
       "      <td>100.0</td>\n",
       "      <td>101.00002</td>\n",
       "      <td>1.00002</td>\n",
       "      <td>0.15</td>\n",
       "      <td>0.15</td>\n",
       "      <td>0.30</td>\n",
       "      <td>1.30002</td>\n",
       "      <td>1970-01-01 00:01:41</td>\n",
       "    </tr>\n",
       "    <tr>\n",
       "      <th>1970-01-01 00:01:42</th>\n",
       "      <td>3</td>\n",
       "      <td>COMP_M</td>\n",
       "      <td>0</td>\n",
       "      <td>0_01</td>\n",
       "      <td>M.USER.APP.0</td>\n",
       "      <td>2</td>\n",
       "      <td>8</td>\n",
       "      <td>3</td>\n",
       "      <td>0</td>\n",
       "      <td>None</td>\n",
       "      <td>...</td>\n",
       "      <td>102.00004</td>\n",
       "      <td>102.15004</td>\n",
       "      <td>100.0</td>\n",
       "      <td>102.00004</td>\n",
       "      <td>2.00004</td>\n",
       "      <td>0.00</td>\n",
       "      <td>0.15</td>\n",
       "      <td>0.15</td>\n",
       "      <td>2.15004</td>\n",
       "      <td>1970-01-01 00:01:42</td>\n",
       "    </tr>\n",
       "    <tr>\n",
       "      <th>1970-01-01 00:01:42</th>\n",
       "      <td>5</td>\n",
       "      <td>COMP_M</td>\n",
       "      <td>0</td>\n",
       "      <td>0_01</td>\n",
       "      <td>M.USER.APP.0</td>\n",
       "      <td>4</td>\n",
       "      <td>8</td>\n",
       "      <td>5</td>\n",
       "      <td>0</td>\n",
       "      <td>None</td>\n",
       "      <td>...</td>\n",
       "      <td>102.15004</td>\n",
       "      <td>102.30004</td>\n",
       "      <td>100.0</td>\n",
       "      <td>102.00004</td>\n",
       "      <td>2.00004</td>\n",
       "      <td>0.15</td>\n",
       "      <td>0.15</td>\n",
       "      <td>0.30</td>\n",
       "      <td>2.30004</td>\n",
       "      <td>1970-01-01 00:01:42</td>\n",
       "    </tr>\n",
       "    <tr>\n",
       "      <th>1970-01-01 00:01:42</th>\n",
       "      <td>7</td>\n",
       "      <td>COMP_M</td>\n",
       "      <td>0</td>\n",
       "      <td>0_01</td>\n",
       "      <td>M.USER.APP.0</td>\n",
       "      <td>6</td>\n",
       "      <td>8</td>\n",
       "      <td>7</td>\n",
       "      <td>0</td>\n",
       "      <td>None</td>\n",
       "      <td>...</td>\n",
       "      <td>102.30004</td>\n",
       "      <td>102.45004</td>\n",
       "      <td>100.0</td>\n",
       "      <td>102.00004</td>\n",
       "      <td>2.00004</td>\n",
       "      <td>0.30</td>\n",
       "      <td>0.15</td>\n",
       "      <td>0.45</td>\n",
       "      <td>2.45004</td>\n",
       "      <td>1970-01-01 00:01:42</td>\n",
       "    </tr>\n",
       "  </tbody>\n",
       "</table>\n",
       "<p>5 rows × 21 columns</p>\n",
       "</div>"
      ],
      "text/plain": [
       "                     id    type  app module       message  DES.src  DES.dst  \\\n",
       "date                                                                          \n",
       "1970-01-01 00:01:41   1  COMP_M    0   0_01  M.USER.APP.0        0        8   \n",
       "1970-01-01 00:01:41   4  COMP_M    0   0_01  M.USER.APP.0        3        8   \n",
       "1970-01-01 00:01:42   3  COMP_M    0   0_01  M.USER.APP.0        2        8   \n",
       "1970-01-01 00:01:42   5  COMP_M    0   0_01  M.USER.APP.0        4        8   \n",
       "1970-01-01 00:01:42   7  COMP_M    0   0_01  M.USER.APP.0        6        8   \n",
       "\n",
       "                     TOPO.src  TOPO.dst module.src  ...    time_in   time_out  \\\n",
       "date                                                ...                         \n",
       "1970-01-01 00:01:41         1         0       None  ...  101.00002  101.15002   \n",
       "1970-01-01 00:01:41         4         0       None  ...  101.15002  101.30002   \n",
       "1970-01-01 00:01:42         3         0       None  ...  102.00004  102.15004   \n",
       "1970-01-01 00:01:42         5         0       None  ...  102.15004  102.30004   \n",
       "1970-01-01 00:01:42         7         0       None  ...  102.30004  102.45004   \n",
       "\n",
       "                     time_emit  time_reception  time_latency  time_wait  \\\n",
       "date                                                                      \n",
       "1970-01-01 00:01:41      100.0       101.00002       1.00002       0.00   \n",
       "1970-01-01 00:01:41      100.0       101.00002       1.00002       0.15   \n",
       "1970-01-01 00:01:42      100.0       102.00004       2.00004       0.00   \n",
       "1970-01-01 00:01:42      100.0       102.00004       2.00004       0.15   \n",
       "1970-01-01 00:01:42      100.0       102.00004       2.00004       0.30   \n",
       "\n",
       "                     time_service  time_response  time_total_response  \\\n",
       "date                                                                    \n",
       "1970-01-01 00:01:41          0.15           0.15              1.15002   \n",
       "1970-01-01 00:01:41          0.15           0.30              1.30002   \n",
       "1970-01-01 00:01:42          0.15           0.15              2.15004   \n",
       "1970-01-01 00:01:42          0.15           0.30              2.30004   \n",
       "1970-01-01 00:01:42          0.15           0.45              2.45004   \n",
       "\n",
       "                                   date  \n",
       "date                                     \n",
       "1970-01-01 00:01:41 1970-01-01 00:01:41  \n",
       "1970-01-01 00:01:41 1970-01-01 00:01:41  \n",
       "1970-01-01 00:01:42 1970-01-01 00:01:42  \n",
       "1970-01-01 00:01:42 1970-01-01 00:01:42  \n",
       "1970-01-01 00:01:42 1970-01-01 00:01:42  \n",
       "\n",
       "[5 rows x 21 columns]"
      ]
     },
     "execution_count": 6,
     "metadata": {},
     "output_type": "execute_result"
    }
   ],
   "source": [
    "df.head()"
   ]
  },
  {
   "cell_type": "code",
   "execution_count": 7,
   "metadata": {},
   "outputs": [],
   "source": [
    "df_resample = df.resample('100s').agg(dict(time_latency='mean'))"
   ]
  },
  {
   "cell_type": "code",
   "execution_count": 8,
   "metadata": {},
   "outputs": [
    {
     "data": {
      "text/plain": [
       "(11, 1)"
      ]
     },
     "execution_count": 8,
     "metadata": {},
     "output_type": "execute_result"
    }
   ],
   "source": [
    "df_resample.shape"
   ]
  },
  {
   "cell_type": "code",
   "execution_count": 9,
   "metadata": {},
   "outputs": [
    {
     "data": {
      "text/html": [
       "<div>\n",
       "<style scoped>\n",
       "    .dataframe tbody tr th:only-of-type {\n",
       "        vertical-align: middle;\n",
       "    }\n",
       "\n",
       "    .dataframe tbody tr th {\n",
       "        vertical-align: top;\n",
       "    }\n",
       "\n",
       "    .dataframe thead th {\n",
       "        text-align: right;\n",
       "    }\n",
       "</style>\n",
       "<table border=\"1\" class=\"dataframe\">\n",
       "  <thead>\n",
       "    <tr style=\"text-align: right;\">\n",
       "      <th></th>\n",
       "      <th>time_latency</th>\n",
       "    </tr>\n",
       "    <tr>\n",
       "      <th>date</th>\n",
       "      <th></th>\n",
       "    </tr>\n",
       "  </thead>\n",
       "  <tbody>\n",
       "    <tr>\n",
       "      <th>1970-01-01 00:01:40</th>\n",
       "      <td>2.14290</td>\n",
       "    </tr>\n",
       "    <tr>\n",
       "      <th>1970-01-01 00:03:20</th>\n",
       "      <td>2.14290</td>\n",
       "    </tr>\n",
       "    <tr>\n",
       "      <th>1970-01-01 00:05:00</th>\n",
       "      <td>1.71432</td>\n",
       "    </tr>\n",
       "    <tr>\n",
       "      <th>1970-01-01 00:06:40</th>\n",
       "      <td>1.71432</td>\n",
       "    </tr>\n",
       "    <tr>\n",
       "      <th>1970-01-01 00:08:20</th>\n",
       "      <td>1.14288</td>\n",
       "    </tr>\n",
       "    <tr>\n",
       "      <th>1970-01-01 00:10:00</th>\n",
       "      <td>1.14288</td>\n",
       "    </tr>\n",
       "    <tr>\n",
       "      <th>1970-01-01 00:11:40</th>\n",
       "      <td>0.85716</td>\n",
       "    </tr>\n",
       "    <tr>\n",
       "      <th>1970-01-01 00:13:20</th>\n",
       "      <td>0.85716</td>\n",
       "    </tr>\n",
       "    <tr>\n",
       "      <th>1970-01-01 00:15:00</th>\n",
       "      <td>0.71430</td>\n",
       "    </tr>\n",
       "    <tr>\n",
       "      <th>1970-01-01 00:16:40</th>\n",
       "      <td>0.71430</td>\n",
       "    </tr>\n",
       "    <tr>\n",
       "      <th>1970-01-01 00:18:20</th>\n",
       "      <td>0.71430</td>\n",
       "    </tr>\n",
       "  </tbody>\n",
       "</table>\n",
       "</div>"
      ],
      "text/plain": [
       "                     time_latency\n",
       "date                             \n",
       "1970-01-01 00:01:40       2.14290\n",
       "1970-01-01 00:03:20       2.14290\n",
       "1970-01-01 00:05:00       1.71432\n",
       "1970-01-01 00:06:40       1.71432\n",
       "1970-01-01 00:08:20       1.14288\n",
       "1970-01-01 00:10:00       1.14288\n",
       "1970-01-01 00:11:40       0.85716\n",
       "1970-01-01 00:13:20       0.85716\n",
       "1970-01-01 00:15:00       0.71430\n",
       "1970-01-01 00:16:40       0.71430\n",
       "1970-01-01 00:18:20       0.71430"
      ]
     },
     "execution_count": 9,
     "metadata": {},
     "output_type": "execute_result"
    }
   ],
   "source": [
    "df_resample"
   ]
  },
  {
   "cell_type": "code",
   "execution_count": 10,
   "metadata": {},
   "outputs": [],
   "source": [
    "timeLatency = df_resample.time_latency.values"
   ]
  },
  {
   "cell_type": "code",
   "execution_count": 11,
   "metadata": {},
   "outputs": [
    {
     "data": {
      "text/plain": [
       "array([2.1429 , 2.1429 , 1.71432, 1.71432, 1.14288, 1.14288, 0.85716,\n",
       "       0.85716, 0.7143 , 0.7143 , 0.7143 ])"
      ]
     },
     "execution_count": 11,
     "metadata": {},
     "output_type": "execute_result"
    }
   ],
   "source": [
    "timeLatency"
   ]
  },
  {
   "cell_type": "code",
   "execution_count": 12,
   "metadata": {},
   "outputs": [],
   "source": [
    "df_emit = df.time_emit.unique()"
   ]
  },
  {
   "cell_type": "code",
   "execution_count": 13,
   "metadata": {},
   "outputs": [
    {
     "data": {
      "text/plain": [
       "array([ 100.,  200.,  300.,  400.,  500.,  600.,  700.,  800.,  900.,\n",
       "       1000., 1100.])"
      ]
     },
     "execution_count": 13,
     "metadata": {},
     "output_type": "execute_result"
    }
   ],
   "source": [
    "df_emit"
   ]
  },
  {
   "cell_type": "code",
   "execution_count": 14,
   "metadata": {},
   "outputs": [],
   "source": [
    "ticks = df_emit"
   ]
  },
  {
   "cell_type": "code",
   "execution_count": 15,
   "metadata": {},
   "outputs": [
    {
     "data": {
      "text/plain": [
       "array([ 100.,  200.,  300.,  400.,  500.,  600.,  700.,  800.,  900.,\n",
       "       1000., 1100.])"
      ]
     },
     "execution_count": 15,
     "metadata": {},
     "output_type": "execute_result"
    }
   ],
   "source": [
    "ticks"
   ]
  },
  {
   "cell_type": "code",
   "execution_count": 16,
   "metadata": {},
   "outputs": [
    {
     "data": {
      "text/plain": [
       "Text(0, 0.5, 'Latency time (ms)')"
      ]
     },
     "execution_count": 16,
     "metadata": {},
     "output_type": "execute_result"
    },
    {
     "data": {
      "image/png": "[encoded data removed]",
      "text/plain": [
       "<Figure size 432x288 with 1 Axes>"
      ]
     },
     "metadata": {
      "needs_background": "light"
     },
     "output_type": "display_data"
    }
   ],
   "source": [
    "fig = plt.figure()\n",
    "ax1 = fig.add_subplot(111)\n",
    "ax1.plot(ticks, timeLatency, '-')\n",
    "ax1.set_xticks(ticks)\n",
    "ax1.set_ylim(timeLatency.min()-0.5,3)#timeLatency.max()+0.5)\n",
    "ax1.set_xlim(ticks.min()-100, ticks.max()+100)# (0, 1200) or ticks.min(), ticks.max()\n",
    "ax1.set_xlabel(\"Simulation time\", fontsize=16)\n",
    "ax1.set_ylabel(\"Latency time (ms)\", fontsize=16)"
   ]
  },
  {
   "cell_type": "markdown",
   "metadata": {},
   "source": [
    "# Latency"
   ]
  },
  {
   "cell_type": "code",
   "execution_count": 17,
   "metadata": {},
   "outputs": [],
   "source": [
    "df_resample = df.resample('100s').agg(dict(time_latency='mean'))"
   ]
  },
  {
   "cell_type": "code",
   "execution_count": 18,
   "metadata": {},
   "outputs": [
    {
     "data": {
      "text/plain": [
       "(11, 1)"
      ]
     },
     "execution_count": 18,
     "metadata": {},
     "output_type": "execute_result"
    }
   ],
   "source": [
    "df_resample.shape"
   ]
  },
  {
   "cell_type": "code",
   "execution_count": 19,
   "metadata": {},
   "outputs": [],
   "source": [
    "timeLatency = df_resample.time_latency.values"
   ]
  },
  {
   "cell_type": "code",
   "execution_count": 20,
   "metadata": {},
   "outputs": [],
   "source": [
    "ticks = df_emit"
   ]
  },
  {
   "cell_type": "code",
   "execution_count": 21,
   "metadata": {},
   "outputs": [
    {
     "data": {
      "text/plain": [
       "Text(0, 0.5, 'Latency time')"
      ]
     },
     "execution_count": 21,
     "metadata": {},
     "output_type": "execute_result"
    },
    {
     "data": {
      "image/png": "[encoded data removed]",
      "text/plain": [
       "<Figure size 432x288 with 1 Axes>"
      ]
     },
     "metadata": {
      "needs_background": "light"
     },
     "output_type": "display_data"
    }
   ],
   "source": [
    "fig = plt.figure()\n",
    "ax1 = fig.add_subplot(111)\n",
    "ax1.plot(ticks, timeLatency, '-')\n",
    "ax1.set_xticks(ticks)\n",
    "ax1.set_ylim(timeLatency.min()-0.5,3)#timeLatency.max()+0.5)\n",
    "ax1.set_xlim(ticks.min(), ticks.max())\n",
    "ax1.set_xlabel(\"Simulation time\", fontsize=16)\n",
    "ax1.set_ylabel(\"Latency time\", fontsize=16)\n",
    "#colocar até 1200 tempo de similação\n",
    "# ajustar escalas inicio 200\n",
    "#diminuir o range do eixo y"
   ]
  },
  {
   "cell_type": "markdown",
   "metadata": {},
   "source": [
    "# Hop Count"
   ]
  },
  {
   "cell_type": "code",
   "execution_count": 22,
   "metadata": {},
   "outputs": [],
   "source": [
    "# Hop count\n",
    "cache_distance = {}"
   ]
  },
  {
   "cell_type": "code",
   "execution_count": 23,
   "metadata": {},
   "outputs": [],
   "source": [
    "G = nx.read_graphml('graph.graphml')"
   ]
  },
  {
   "cell_type": "code",
   "execution_count": 24,
   "metadata": {},
   "outputs": [
    {
     "name": "stdout",
     "output_type": "stream",
     "text": [
      "['0', '1', '2', '3', '4', '5', '6', '7', '8', '9', '10', '11', '12', '13', '14', '15', '16', '17', '18', '19']\n"
     ]
    }
   ],
   "source": [
    "print(G.nodes())"
   ]
  },
  {
   "cell_type": "code",
   "execution_count": 25,
   "metadata": {},
   "outputs": [],
   "source": [
    "def compute_distance(k):\n",
    "    return nx.shortest_path_length(G,str(k[0]),str(k[1]))"
   ]
  },
  {
   "cell_type": "code",
   "execution_count": 26,
   "metadata": {},
   "outputs": [],
   "source": [
    "for row in df[[\"TOPO.src\",\"TOPO.dst\"]].iterrows():\n",
    "    k = (row[1][0],row[1][1])\n",
    "    if not k in cache_distance.keys():\n",
    "        cache_distance[k] = compute_distance(k)"
   ]
  },
  {
   "cell_type": "code",
   "execution_count": 27,
   "metadata": {},
   "outputs": [
    {
     "data": {
      "text/plain": [
       "{(1, 0): 1,\n",
       " (4, 0): 1,\n",
       " (3, 0): 2,\n",
       " (5, 0): 2,\n",
       " (7, 0): 2,\n",
       " (6, 0): 2,\n",
       " (2, 0): 3,\n",
       " (1, 10): 1,\n",
       " (2, 10): 1,\n",
       " (1, 1): 0,\n",
       " (5, 1): 1,\n",
       " (6, 1): 1,\n",
       " (4, 4): 0,\n",
       " (7, 4): 1,\n",
       " (3, 4): 2,\n",
       " (3, 13): 1}"
      ]
     },
     "execution_count": 27,
     "metadata": {},
     "output_type": "execute_result"
    }
   ],
   "source": [
    "cache_distance"
   ]
  },
  {
   "cell_type": "code",
   "execution_count": 28,
   "metadata": {},
   "outputs": [
    {
     "name": "stdout",
     "output_type": "stream",
     "text": [
      "Counter({1: 8, 2: 5, 0: 2, 3: 1})\n"
     ]
    }
   ],
   "source": [
    "x = cache_distance.values() \n",
    "counter = collections.Counter(x)\n",
    "print(counter)"
   ]
  },
  {
   "cell_type": "code",
   "execution_count": 29,
   "metadata": {},
   "outputs": [],
   "source": [
    "data_a = {}\n",
    "for k in range(4):\n",
    "    data_a[k] = counter[k]"
   ]
  },
  {
   "cell_type": "code",
   "execution_count": 30,
   "metadata": {},
   "outputs": [
    {
     "data": {
      "text/plain": [
       "{0: 2, 1: 8, 2: 5, 3: 1}"
      ]
     },
     "execution_count": 30,
     "metadata": {},
     "output_type": "execute_result"
    }
   ],
   "source": [
    "data_a"
   ]
  },
  {
   "cell_type": "code",
   "execution_count": 31,
   "metadata": {},
   "outputs": [],
   "source": [
    "data_a = data_a.values()"
   ]
  },
  {
   "cell_type": "code",
   "execution_count": 32,
   "metadata": {},
   "outputs": [],
   "source": [
    "ticks = range(4)"
   ]
  },
  {
   "cell_type": "code",
   "execution_count": 33,
   "metadata": {},
   "outputs": [],
   "source": [
    "N = len(ticks)\n",
    "ind = np.array(ticks)\n",
    "width = 0.45"
   ]
  },
  {
   "cell_type": "code",
   "execution_count": 34,
   "metadata": {},
   "outputs": [
    {
     "data": {
      "image/png": "[encoded data removed]",
      "text/plain": [
       "<Figure size 576x288 with 1 Axes>"
      ]
     },
     "metadata": {
      "needs_background": "light"
     },
     "output_type": "display_data"
    }
   ],
   "source": [
    "fig, ax = plt.subplots(figsize=(8.0,4.0))\n",
    "ax.get_xaxis().set_ticks(range(0, len(ticks) * 2, 2))\n",
    "r = ax.bar(ind, data_a, width, color='r')\n",
    "ax.set_xticks(ind+ width/2)\n",
    "ax.set_xticklabels(ticks, fontsize=12)\n",
    "ax.set_title(\"App\")\n",
    "ax.set_xlim(-width, len(ticks))\n",
    "ax.plot([], c='#a6bddb', label=\"No LABEL\",linewidth=3)\n",
    "ax.set_xlabel(\"Contagem de Saltos entre os nós do Serviço\", fontsize=18)\n",
    "ax.set_ylabel(\"N de vezes (x) saltos realizados\", fontsize=20)\n",
    "plt.legend([r],['No label'],loc=\"upper right\",fontsize=14)\n",
    "plt.tight_layout()\n",
    "#fazer a contagem de saltos agregada pela média e pelo tempo de simulação"
   ]
  },
  {
   "cell_type": "code",
   "execution_count": 35,
   "metadata": {},
   "outputs": [
    {
     "name": "stdout",
     "output_type": "stream",
     "text": [
      "21\n"
     ]
    }
   ],
   "source": [
    "y = sum(cache_distance.values())\n",
    "print(y)"
   ]
  },
  {
   "cell_type": "code",
   "execution_count": 36,
   "metadata": {},
   "outputs": [
    {
     "name": "stdout",
     "output_type": "stream",
     "text": [
      "16\n"
     ]
    }
   ],
   "source": [
    "z = len(cache_distance.keys())\n",
    "print(z)"
   ]
  },
  {
   "cell_type": "code",
   "execution_count": 37,
   "metadata": {},
   "outputs": [
    {
     "name": "stdout",
     "output_type": "stream",
     "text": [
      "Média de saltos no cenário = 1.3125\n"
     ]
    }
   ],
   "source": [
    "avg_hop = y/z\n",
    "print(f\"Média de saltos no cenário = {avg_hop}\")"
   ]
  },
  {
   "cell_type": "code",
   "execution_count": 38,
   "metadata": {},
   "outputs": [],
   "source": [
    "df_link = pd.read_csv('sim_trace_link.csv')"
   ]
  },
  {
   "cell_type": "code",
   "execution_count": 39,
   "metadata": {},
   "outputs": [
    {
     "name": "stdout",
     "output_type": "stream",
     "text": [
      "<class 'pandas.core.frame.DataFrame'>\n",
      "RangeIndex: 91 entries, 0 to 90\n",
      "Data columns (total 10 columns):\n",
      " #   Column   Non-Null Count  Dtype  \n",
      "---  ------   --------------  -----  \n",
      " 0   id       91 non-null     int64  \n",
      " 1   type     91 non-null     object \n",
      " 2   src      91 non-null     int64  \n",
      " 3   dst      91 non-null     int64  \n",
      " 4   app      91 non-null     int64  \n",
      " 5   latency  91 non-null     float64\n",
      " 6   message  91 non-null     object \n",
      " 7   ctime    91 non-null     float64\n",
      " 8   size     91 non-null     int64  \n",
      " 9   buffer   91 non-null     int64  \n",
      "dtypes: float64(2), int64(6), object(2)\n",
      "memory usage: 7.2+ KB\n"
     ]
    }
   ],
   "source": [
    "df_link.info()"
   ]
  },
  {
   "cell_type": "code",
   "execution_count": 40,
   "metadata": {},
   "outputs": [
    {
     "data": {
      "text/html": [
       "<div>\n",
       "<style scoped>\n",
       "    .dataframe tbody tr th:only-of-type {\n",
       "        vertical-align: middle;\n",
       "    }\n",
       "\n",
       "    .dataframe tbody tr th {\n",
       "        vertical-align: top;\n",
       "    }\n",
       "\n",
       "    .dataframe thead th {\n",
       "        text-align: right;\n",
       "    }\n",
       "</style>\n",
       "<table border=\"1\" class=\"dataframe\">\n",
       "  <thead>\n",
       "    <tr style=\"text-align: right;\">\n",
       "      <th></th>\n",
       "      <th>id</th>\n",
       "      <th>type</th>\n",
       "      <th>src</th>\n",
       "      <th>dst</th>\n",
       "      <th>app</th>\n",
       "      <th>latency</th>\n",
       "      <th>message</th>\n",
       "      <th>ctime</th>\n",
       "      <th>size</th>\n",
       "      <th>buffer</th>\n",
       "    </tr>\n",
       "  </thead>\n",
       "  <tbody>\n",
       "    <tr>\n",
       "      <th>0</th>\n",
       "      <td>1</td>\n",
       "      <td>LINK</td>\n",
       "      <td>1</td>\n",
       "      <td>0</td>\n",
       "      <td>0</td>\n",
       "      <td>1.00002</td>\n",
       "      <td>M.USER.APP.0</td>\n",
       "      <td>100.0</td>\n",
       "      <td>20</td>\n",
       "      <td>0</td>\n",
       "    </tr>\n",
       "    <tr>\n",
       "      <th>1</th>\n",
       "      <td>2</td>\n",
       "      <td>LINK</td>\n",
       "      <td>2</td>\n",
       "      <td>5</td>\n",
       "      <td>0</td>\n",
       "      <td>1.00002</td>\n",
       "      <td>M.USER.APP.0</td>\n",
       "      <td>100.0</td>\n",
       "      <td>20</td>\n",
       "      <td>1</td>\n",
       "    </tr>\n",
       "    <tr>\n",
       "      <th>2</th>\n",
       "      <td>3</td>\n",
       "      <td>LINK</td>\n",
       "      <td>3</td>\n",
       "      <td>13</td>\n",
       "      <td>0</td>\n",
       "      <td>1.00002</td>\n",
       "      <td>M.USER.APP.0</td>\n",
       "      <td>100.0</td>\n",
       "      <td>20</td>\n",
       "      <td>2</td>\n",
       "    </tr>\n",
       "    <tr>\n",
       "      <th>3</th>\n",
       "      <td>4</td>\n",
       "      <td>LINK</td>\n",
       "      <td>4</td>\n",
       "      <td>0</td>\n",
       "      <td>0</td>\n",
       "      <td>1.00002</td>\n",
       "      <td>M.USER.APP.0</td>\n",
       "      <td>100.0</td>\n",
       "      <td>20</td>\n",
       "      <td>3</td>\n",
       "    </tr>\n",
       "    <tr>\n",
       "      <th>4</th>\n",
       "      <td>5</td>\n",
       "      <td>LINK</td>\n",
       "      <td>5</td>\n",
       "      <td>1</td>\n",
       "      <td>0</td>\n",
       "      <td>1.00002</td>\n",
       "      <td>M.USER.APP.0</td>\n",
       "      <td>100.0</td>\n",
       "      <td>20</td>\n",
       "      <td>4</td>\n",
       "    </tr>\n",
       "  </tbody>\n",
       "</table>\n",
       "</div>"
      ],
      "text/plain": [
       "   id  type  src  dst  app  latency       message  ctime  size  buffer\n",
       "0   1  LINK    1    0    0  1.00002  M.USER.APP.0  100.0    20       0\n",
       "1   2  LINK    2    5    0  1.00002  M.USER.APP.0  100.0    20       1\n",
       "2   3  LINK    3   13    0  1.00002  M.USER.APP.0  100.0    20       2\n",
       "3   4  LINK    4    0    0  1.00002  M.USER.APP.0  100.0    20       3\n",
       "4   5  LINK    5    1    0  1.00002  M.USER.APP.0  100.0    20       4"
      ]
     },
     "execution_count": 40,
     "metadata": {},
     "output_type": "execute_result"
    }
   ],
   "source": [
    "df_link.head()"
   ]
  },
  {
   "cell_type": "code",
   "execution_count": 41,
   "metadata": {},
   "outputs": [
    {
     "data": {
      "text/html": [
       "<div>\n",
       "<style scoped>\n",
       "    .dataframe tbody tr th:only-of-type {\n",
       "        vertical-align: middle;\n",
       "    }\n",
       "\n",
       "    .dataframe tbody tr th {\n",
       "        vertical-align: top;\n",
       "    }\n",
       "\n",
       "    .dataframe thead th {\n",
       "        text-align: right;\n",
       "    }\n",
       "</style>\n",
       "<table border=\"1\" class=\"dataframe\">\n",
       "  <thead>\n",
       "    <tr style=\"text-align: right;\">\n",
       "      <th></th>\n",
       "      <th>id</th>\n",
       "      <th>type</th>\n",
       "      <th>src</th>\n",
       "      <th>dst</th>\n",
       "      <th>app</th>\n",
       "      <th>latency</th>\n",
       "      <th>message</th>\n",
       "      <th>ctime</th>\n",
       "      <th>size</th>\n",
       "      <th>buffer</th>\n",
       "    </tr>\n",
       "  </thead>\n",
       "  <tbody>\n",
       "    <tr>\n",
       "      <th>86</th>\n",
       "      <td>72</td>\n",
       "      <td>LINK</td>\n",
       "      <td>2</td>\n",
       "      <td>10</td>\n",
       "      <td>0</td>\n",
       "      <td>1.00002</td>\n",
       "      <td>M.USER.APP.0</td>\n",
       "      <td>1100.0</td>\n",
       "      <td>20</td>\n",
       "      <td>0</td>\n",
       "    </tr>\n",
       "    <tr>\n",
       "      <th>87</th>\n",
       "      <td>73</td>\n",
       "      <td>LINK</td>\n",
       "      <td>3</td>\n",
       "      <td>13</td>\n",
       "      <td>0</td>\n",
       "      <td>1.00002</td>\n",
       "      <td>M.USER.APP.0</td>\n",
       "      <td>1100.0</td>\n",
       "      <td>20</td>\n",
       "      <td>1</td>\n",
       "    </tr>\n",
       "    <tr>\n",
       "      <th>88</th>\n",
       "      <td>75</td>\n",
       "      <td>LINK</td>\n",
       "      <td>5</td>\n",
       "      <td>1</td>\n",
       "      <td>0</td>\n",
       "      <td>1.00002</td>\n",
       "      <td>M.USER.APP.0</td>\n",
       "      <td>1100.0</td>\n",
       "      <td>20</td>\n",
       "      <td>2</td>\n",
       "    </tr>\n",
       "    <tr>\n",
       "      <th>89</th>\n",
       "      <td>76</td>\n",
       "      <td>LINK</td>\n",
       "      <td>6</td>\n",
       "      <td>1</td>\n",
       "      <td>0</td>\n",
       "      <td>1.00002</td>\n",
       "      <td>M.USER.APP.0</td>\n",
       "      <td>1100.0</td>\n",
       "      <td>20</td>\n",
       "      <td>3</td>\n",
       "    </tr>\n",
       "    <tr>\n",
       "      <th>90</th>\n",
       "      <td>77</td>\n",
       "      <td>LINK</td>\n",
       "      <td>7</td>\n",
       "      <td>4</td>\n",
       "      <td>0</td>\n",
       "      <td>1.00002</td>\n",
       "      <td>M.USER.APP.0</td>\n",
       "      <td>1100.0</td>\n",
       "      <td>20</td>\n",
       "      <td>4</td>\n",
       "    </tr>\n",
       "  </tbody>\n",
       "</table>\n",
       "</div>"
      ],
      "text/plain": [
       "    id  type  src  dst  app  latency       message   ctime  size  buffer\n",
       "86  72  LINK    2   10    0  1.00002  M.USER.APP.0  1100.0    20       0\n",
       "87  73  LINK    3   13    0  1.00002  M.USER.APP.0  1100.0    20       1\n",
       "88  75  LINK    5    1    0  1.00002  M.USER.APP.0  1100.0    20       2\n",
       "89  76  LINK    6    1    0  1.00002  M.USER.APP.0  1100.0    20       3\n",
       "90  77  LINK    7    4    0  1.00002  M.USER.APP.0  1100.0    20       4"
      ]
     },
     "execution_count": 41,
     "metadata": {},
     "output_type": "execute_result"
    }
   ],
   "source": [
    "df_link.tail()"
   ]
  },
  {
   "cell_type": "code",
   "execution_count": 42,
   "metadata": {},
   "outputs": [
    {
     "name": "stdout",
     "output_type": "stream",
     "text": [
      "total messages transmited = 91\n"
     ]
    }
   ],
   "source": [
    "total_messages = len(df_link)\n",
    "print(f'total messages transmited = {total_messages}')"
   ]
  },
  {
   "cell_type": "code",
   "execution_count": 43,
   "metadata": {},
   "outputs": [
    {
     "name": "stdout",
     "output_type": "stream",
     "text": [
      "total bytes transmited = 1820\n"
     ]
    }
   ],
   "source": [
    "bytes_transmited = df_link[\"size\"].sum()\n",
    "print(f'total bytes transmited = {bytes_transmited}')"
   ]
  },
  {
   "cell_type": "code",
   "execution_count": 44,
   "metadata": {},
   "outputs": [],
   "source": [
    "def utilization(id_entity, total_time, from_time=0.0):\n",
    "        if \"time_service\" not in df.columns: #cached\n",
    "            df[\"time_service\"] = df.time_out - df.time_in\n",
    "        values = df.groupby(\"DES.dst\").time_service.agg(\"sum\")\n",
    "        return values[id_entity] / total_time"
   ]
  },
  {
   "cell_type": "code",
   "execution_count": 45,
   "metadata": {},
   "outputs": [],
   "source": [
    "values = df.groupby(\"DES.dst\").time_service.agg(\"sum\")"
   ]
  },
  {
   "cell_type": "code",
   "execution_count": 46,
   "metadata": {},
   "outputs": [
    {
     "data": {
      "text/plain": [
       "DES.dst\n",
       "8     4.8000\n",
       "10    1.0000\n",
       "11    2.1000\n",
       "12    0.4125\n",
       "13    0.9000\n",
       "Name: time_service, dtype: float64"
      ]
     },
     "execution_count": 46,
     "metadata": {},
     "output_type": "execute_result"
    }
   ],
   "source": [
    "values"
   ]
  },
  {
   "cell_type": "code",
   "execution_count": null,
   "metadata": {},
   "outputs": [],
   "source": []
  },
  {
   "cell_type": "markdown",
   "metadata": {},
   "source": [
    "# Tempo de resposta do APP"
   ]
  },
  {
   "cell_type": "code",
   "execution_count": 47,
   "metadata": {},
   "outputs": [],
   "source": [
    "def getRbyApp(df,dtmp):\n",
    "    dr = pd.DataFrame(\n",
    "        columns=['app', 'user', 'avg', 'std', 'm', 'r', 'invalid', 'over','totalmsg'])  # m - numero de mensagens enviadas\n",
    "    times = []\n",
    "    ixloc = 0\n",
    "    for g in dtmp.keys():\n",
    "        ids = dtmp[g]\n",
    "        responses = []\n",
    "        messages = []\n",
    "        over = 0\n",
    "        # Firstly, it computes the mode in all the app,user transmissions\n",
    "        for i in ids:\n",
    "            messages.append(df[df.id == i].shape[0])  # number of messages send by the user\n",
    "\n",
    "        # Requests with a inferior number of messages are filtered\n",
    "        msg = np.array(messages)\n",
    "        # mode = stats.mode(msg).mode[0]\n",
    "        mode = stats.mode(msg)[0][0]\n",
    "\n",
    "        # Secondly, if each transmission has the same mode then the time is storaged\n",
    "        invalid = 0\n",
    "        for i in ids:\n",
    "            dm = df[df.id == i]\n",
    "            if mode == dm.shape[0]:\n",
    "                r = dm['time_out'].max() - dm['time_emit'].min()\n",
    "                responses.append(r)\n",
    "                times.append(dm['time_emit'].min())\n",
    "            else:\n",
    "                invalid += 1\n",
    "\n",
    "        resp = np.array(responses)\n",
    "\n",
    "        avg = resp.mean()\n",
    "        dsv = resp.std()\n",
    "        totalmsg = len(resp)\n",
    "        dr.loc[ixloc] = [g[0], g[1], avg, dsv, mode, resp, invalid, over,totalmsg]\n",
    "        ixloc += 1\n",
    "        print (g, \"\\t\", len(dtmp[g]), \"\\t\", invalid, \"\\t\", over)\n",
    "\n",
    "    return dr, times"
   ]
  },
  {
   "cell_type": "code",
   "execution_count": 48,
   "metadata": {
    "scrolled": true
   },
   "outputs": [],
   "source": [
    "dtmp = df[df[\"module.src\"]==\"None\"].groupby(['app','TOPO.src'])['id'].apply(list)"
   ]
  },
  {
   "cell_type": "code",
   "execution_count": null,
   "metadata": {},
   "outputs": [],
   "source": []
  }
 ],
 "metadata": {
  "kernelspec": {
   "display_name": "Python 3",
   "language": "python",
   "name": "python3"
  },
  "language_info": {
   "codemirror_mode": {
    "name": "ipython",
    "version": 3
   },
   "file_extension": ".py",
   "mimetype": "text/x-python",
   "name": "python",
   "nbconvert_exporter": "python",
   "pygments_lexer": "ipython3",
   "version": "3.8.3"
  }
 },
 "nbformat": 4,
 "nbformat_minor": 4
}
