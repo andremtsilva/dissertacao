{
 "cells": [
  {
   "cell_type": "code",
   "execution_count": 48,
   "metadata": {},
   "outputs": [],
   "source": [
    "import pandas as pd\n",
    "import matplotlib.pyplot as plt\n",
    "import networkx as nx\n",
    "import collections\n",
    "import numpy as np"
   ]
  },
  {
   "cell_type": "code",
   "execution_count": 49,
   "metadata": {},
   "outputs": [],
   "source": [
    "df = pd.read_csv('results/sim_trace.csv')"
   ]
  },
  {
   "cell_type": "code",
   "execution_count": 50,
   "metadata": {},
   "outputs": [
    {
     "name": "stdout",
     "output_type": "stream",
     "text": [
      "<class 'pandas.core.frame.DataFrame'>\n",
      "RangeIndex: 633 entries, 0 to 632\n",
      "Data columns (total 15 columns):\n",
      "id                633 non-null int64\n",
      "type              633 non-null object\n",
      "app               633 non-null int64\n",
      "module            633 non-null object\n",
      "message           633 non-null object\n",
      "DES.src           633 non-null int64\n",
      "DES.dst           633 non-null int64\n",
      "TOPO.src          633 non-null int64\n",
      "TOPO.dst          633 non-null int64\n",
      "module.src        633 non-null object\n",
      "service           633 non-null float64\n",
      "time_in           633 non-null float64\n",
      "time_out          633 non-null float64\n",
      "time_emit         633 non-null float64\n",
      "time_reception    633 non-null float64\n",
      "dtypes: float64(5), int64(6), object(4)\n",
      "memory usage: 74.3+ KB\n"
     ]
    }
   ],
   "source": [
    "df.info()"
   ]
  },
  {
   "cell_type": "code",
   "execution_count": 51,
   "metadata": {},
   "outputs": [],
   "source": [
    "df[\"time_latency\"] = df[\"time_reception\"] - df[\"time_emit\"]\n",
    "df[\"time_wait\"] = df[\"time_in\"] - df[\"time_reception\"]  \n",
    "df[\"time_service\"] = df[\"time_out\"] - df[\"time_in\"]\n",
    "df[\"time_response\"] = df[\"time_out\"] - df[\"time_reception\"]\n",
    "df[\"time_total_response\"] = df[\"time_response\"] + df[\"time_latency\"]"
   ]
  },
  {
   "cell_type": "code",
   "execution_count": 52,
   "metadata": {},
   "outputs": [],
   "source": [
    "# convert index to date type in order to use resample and agreegate functions of pandas\n",
    "df[\"date\"]=df.time_in.astype('datetime64[s]')\n",
    "df.index = df.date"
   ]
  },
  {
   "cell_type": "code",
   "execution_count": 53,
   "metadata": {},
   "outputs": [
    {
     "data": {
      "text/html": [
       "<div>\n",
       "<style scoped>\n",
       "    .dataframe tbody tr th:only-of-type {\n",
       "        vertical-align: middle;\n",
       "    }\n",
       "\n",
       "    .dataframe tbody tr th {\n",
       "        vertical-align: top;\n",
       "    }\n",
       "\n",
       "    .dataframe thead th {\n",
       "        text-align: right;\n",
       "    }\n",
       "</style>\n",
       "<table border=\"1\" class=\"dataframe\">\n",
       "  <thead>\n",
       "    <tr style=\"text-align: right;\">\n",
       "      <th></th>\n",
       "      <th>id</th>\n",
       "      <th>type</th>\n",
       "      <th>app</th>\n",
       "      <th>module</th>\n",
       "      <th>message</th>\n",
       "      <th>DES.src</th>\n",
       "      <th>DES.dst</th>\n",
       "      <th>TOPO.src</th>\n",
       "      <th>TOPO.dst</th>\n",
       "      <th>module.src</th>\n",
       "      <th>...</th>\n",
       "      <th>time_in</th>\n",
       "      <th>time_out</th>\n",
       "      <th>time_emit</th>\n",
       "      <th>time_reception</th>\n",
       "      <th>time_latency</th>\n",
       "      <th>time_wait</th>\n",
       "      <th>time_service</th>\n",
       "      <th>time_response</th>\n",
       "      <th>time_total_response</th>\n",
       "      <th>date</th>\n",
       "    </tr>\n",
       "    <tr>\n",
       "      <th>date</th>\n",
       "      <th></th>\n",
       "      <th></th>\n",
       "      <th></th>\n",
       "      <th></th>\n",
       "      <th></th>\n",
       "      <th></th>\n",
       "      <th></th>\n",
       "      <th></th>\n",
       "      <th></th>\n",
       "      <th></th>\n",
       "      <th></th>\n",
       "      <th></th>\n",
       "      <th></th>\n",
       "      <th></th>\n",
       "      <th></th>\n",
       "      <th></th>\n",
       "      <th></th>\n",
       "      <th></th>\n",
       "      <th></th>\n",
       "      <th></th>\n",
       "      <th></th>\n",
       "    </tr>\n",
       "  </thead>\n",
       "  <tbody>\n",
       "    <tr>\n",
       "      <th>1970-01-01 00:03:36</th>\n",
       "      <td>9</td>\n",
       "      <td>COMP_M</td>\n",
       "      <td>5</td>\n",
       "      <td>5_19</td>\n",
       "      <td>M.USER.APP.5</td>\n",
       "      <td>8</td>\n",
       "      <td>33</td>\n",
       "      <td>187</td>\n",
       "      <td>153</td>\n",
       "      <td>None</td>\n",
       "      <td>...</td>\n",
       "      <td>216.696023</td>\n",
       "      <td>219.341988</td>\n",
       "      <td>100.000000</td>\n",
       "      <td>216.696023</td>\n",
       "      <td>116.696023</td>\n",
       "      <td>0.0</td>\n",
       "      <td>2.645965</td>\n",
       "      <td>2.645965</td>\n",
       "      <td>119.341988</td>\n",
       "      <td>1970-01-01 00:03:36</td>\n",
       "    </tr>\n",
       "    <tr>\n",
       "      <th>1970-01-01 00:03:39</th>\n",
       "      <td>9</td>\n",
       "      <td>COMP_M</td>\n",
       "      <td>5</td>\n",
       "      <td>5_24</td>\n",
       "      <td>5_(19-24)</td>\n",
       "      <td>33</td>\n",
       "      <td>38</td>\n",
       "      <td>153</td>\n",
       "      <td>153</td>\n",
       "      <td>5_19</td>\n",
       "      <td>...</td>\n",
       "      <td>219.341988</td>\n",
       "      <td>221.429996</td>\n",
       "      <td>219.341988</td>\n",
       "      <td>219.341988</td>\n",
       "      <td>0.000000</td>\n",
       "      <td>0.0</td>\n",
       "      <td>2.088009</td>\n",
       "      <td>2.088009</td>\n",
       "      <td>2.088009</td>\n",
       "      <td>1970-01-01 00:03:39</td>\n",
       "    </tr>\n",
       "    <tr>\n",
       "      <th>1970-01-01 00:03:39</th>\n",
       "      <td>9</td>\n",
       "      <td>COMP_M</td>\n",
       "      <td>5</td>\n",
       "      <td>5_25</td>\n",
       "      <td>5_(19-25)</td>\n",
       "      <td>33</td>\n",
       "      <td>39</td>\n",
       "      <td>153</td>\n",
       "      <td>153</td>\n",
       "      <td>5_19</td>\n",
       "      <td>...</td>\n",
       "      <td>219.341988</td>\n",
       "      <td>222.668620</td>\n",
       "      <td>219.341988</td>\n",
       "      <td>219.341988</td>\n",
       "      <td>0.000000</td>\n",
       "      <td>0.0</td>\n",
       "      <td>3.326633</td>\n",
       "      <td>3.326633</td>\n",
       "      <td>3.326633</td>\n",
       "      <td>1970-01-01 00:03:39</td>\n",
       "    </tr>\n",
       "    <tr>\n",
       "      <th>1970-01-01 00:03:39</th>\n",
       "      <td>9</td>\n",
       "      <td>COMP_M</td>\n",
       "      <td>5</td>\n",
       "      <td>5_20</td>\n",
       "      <td>5_(19-20)</td>\n",
       "      <td>33</td>\n",
       "      <td>34</td>\n",
       "      <td>153</td>\n",
       "      <td>153</td>\n",
       "      <td>5_19</td>\n",
       "      <td>...</td>\n",
       "      <td>219.341988</td>\n",
       "      <td>225.323286</td>\n",
       "      <td>219.341988</td>\n",
       "      <td>219.341988</td>\n",
       "      <td>0.000000</td>\n",
       "      <td>0.0</td>\n",
       "      <td>5.981298</td>\n",
       "      <td>5.981298</td>\n",
       "      <td>5.981298</td>\n",
       "      <td>1970-01-01 00:03:39</td>\n",
       "    </tr>\n",
       "    <tr>\n",
       "      <th>1970-01-01 00:03:39</th>\n",
       "      <td>9</td>\n",
       "      <td>COMP_M</td>\n",
       "      <td>5</td>\n",
       "      <td>5_22</td>\n",
       "      <td>5_(19-22)</td>\n",
       "      <td>33</td>\n",
       "      <td>36</td>\n",
       "      <td>153</td>\n",
       "      <td>153</td>\n",
       "      <td>5_19</td>\n",
       "      <td>...</td>\n",
       "      <td>219.341988</td>\n",
       "      <td>223.012955</td>\n",
       "      <td>219.341988</td>\n",
       "      <td>219.341988</td>\n",
       "      <td>0.000000</td>\n",
       "      <td>0.0</td>\n",
       "      <td>3.670967</td>\n",
       "      <td>3.670967</td>\n",
       "      <td>3.670967</td>\n",
       "      <td>1970-01-01 00:03:39</td>\n",
       "    </tr>\n",
       "  </tbody>\n",
       "</table>\n",
       "<p>5 rows × 21 columns</p>\n",
       "</div>"
      ],
      "text/plain": [
       "                     id    type  app module       message  DES.src  DES.dst  \\\n",
       "date                                                                          \n",
       "1970-01-01 00:03:36   9  COMP_M    5   5_19  M.USER.APP.5        8       33   \n",
       "1970-01-01 00:03:39   9  COMP_M    5   5_24     5_(19-24)       33       38   \n",
       "1970-01-01 00:03:39   9  COMP_M    5   5_25     5_(19-25)       33       39   \n",
       "1970-01-01 00:03:39   9  COMP_M    5   5_20     5_(19-20)       33       34   \n",
       "1970-01-01 00:03:39   9  COMP_M    5   5_22     5_(19-22)       33       36   \n",
       "\n",
       "                     TOPO.src  TOPO.dst module.src  ...     time_in  \\\n",
       "date                                                ...               \n",
       "1970-01-01 00:03:36       187       153       None  ...  216.696023   \n",
       "1970-01-01 00:03:39       153       153       5_19  ...  219.341988   \n",
       "1970-01-01 00:03:39       153       153       5_19  ...  219.341988   \n",
       "1970-01-01 00:03:39       153       153       5_19  ...  219.341988   \n",
       "1970-01-01 00:03:39       153       153       5_19  ...  219.341988   \n",
       "\n",
       "                       time_out   time_emit  time_reception  time_latency  \\\n",
       "date                                                                        \n",
       "1970-01-01 00:03:36  219.341988  100.000000      216.696023    116.696023   \n",
       "1970-01-01 00:03:39  221.429996  219.341988      219.341988      0.000000   \n",
       "1970-01-01 00:03:39  222.668620  219.341988      219.341988      0.000000   \n",
       "1970-01-01 00:03:39  225.323286  219.341988      219.341988      0.000000   \n",
       "1970-01-01 00:03:39  223.012955  219.341988      219.341988      0.000000   \n",
       "\n",
       "                     time_wait  time_service  time_response  \\\n",
       "date                                                          \n",
       "1970-01-01 00:03:36        0.0      2.645965       2.645965   \n",
       "1970-01-01 00:03:39        0.0      2.088009       2.088009   \n",
       "1970-01-01 00:03:39        0.0      3.326633       3.326633   \n",
       "1970-01-01 00:03:39        0.0      5.981298       5.981298   \n",
       "1970-01-01 00:03:39        0.0      3.670967       3.670967   \n",
       "\n",
       "                     time_total_response                date  \n",
       "date                                                          \n",
       "1970-01-01 00:03:36           119.341988 1970-01-01 00:03:36  \n",
       "1970-01-01 00:03:39             2.088009 1970-01-01 00:03:39  \n",
       "1970-01-01 00:03:39             3.326633 1970-01-01 00:03:39  \n",
       "1970-01-01 00:03:39             5.981298 1970-01-01 00:03:39  \n",
       "1970-01-01 00:03:39             3.670967 1970-01-01 00:03:39  \n",
       "\n",
       "[5 rows x 21 columns]"
      ]
     },
     "execution_count": 53,
     "metadata": {},
     "output_type": "execute_result"
    }
   ],
   "source": [
    "df.head()"
   ]
  },
  {
   "cell_type": "markdown",
   "metadata": {},
   "source": [
    "# Latency"
   ]
  },
  {
   "cell_type": "code",
   "execution_count": 84,
   "metadata": {},
   "outputs": [],
   "source": [
    "df_resample = df.resample('500s').agg(dict(time_latency='mean'))"
   ]
  },
  {
   "cell_type": "code",
   "execution_count": 85,
   "metadata": {},
   "outputs": [
    {
     "data": {
      "text/plain": [
       "(40, 1)"
      ]
     },
     "execution_count": 85,
     "metadata": {},
     "output_type": "execute_result"
    }
   ],
   "source": [
    "df_resample.shape"
   ]
  },
  {
   "cell_type": "code",
   "execution_count": 86,
   "metadata": {},
   "outputs": [],
   "source": [
    "timeLatency = df_resample.time_latency.values"
   ]
  },
  {
   "cell_type": "code",
   "execution_count": 87,
   "metadata": {},
   "outputs": [
    {
     "data": {
      "text/plain": [
       "array([  70.40018905,  147.42040623,  251.03769516,  362.60353539,\n",
       "        445.19284796,  581.50971645,  693.78289299,  770.4934557 ,\n",
       "        807.66713953, 1105.80295568,  115.9514458 ,  298.72339165,\n",
       "         73.81741448,  172.18116905,  155.41562772,  136.28139692,\n",
       "        191.46322329,  193.44070796,  157.04056055,  147.03374586,\n",
       "        147.47623623,   77.29215627,  137.97666159,  144.33381986,\n",
       "        165.38783494,  115.52426776,  156.74504006,  102.6852597 ,\n",
       "        162.73341016,  134.61947258,  150.83454017,  106.68327933,\n",
       "        106.154504  ,  161.88502016,  144.32076011,  123.96596599,\n",
       "        202.39348122,  138.82789573,  249.87547099,  174.51084518])"
      ]
     },
     "execution_count": 87,
     "metadata": {},
     "output_type": "execute_result"
    }
   ],
   "source": [
    "timeLatency"
   ]
  },
  {
   "cell_type": "code",
   "execution_count": 88,
   "metadata": {},
   "outputs": [],
   "source": [
    "ticks = range(len(timeLatency))"
   ]
  },
  {
   "cell_type": "code",
   "execution_count": 90,
   "metadata": {},
   "outputs": [
    {
     "data": {
      "text/plain": [
       "Text(0, 0.5, 'Latency time')"
      ]
     },
     "execution_count": 90,
     "metadata": {},
     "output_type": "execute_result"
    },
    {
     "data": {
      "image/png": "[encoded data removed]",
      "text/plain": [
       "<Figure size 432x288 with 1 Axes>"
      ]
     },
     "metadata": {
      "needs_background": "light"
     },
     "output_type": "display_data"
    }
   ],
   "source": [
    "fig = plt.figure()\n",
    "ax1 = fig.add_subplot(111)\n",
    "ax1.plot(ticks, timeLatency, '-')\n",
    "ax1.set_ylim(timeLatency.min()-0.5, timeLatency.max()+0.5)\n",
    "ax1.set_xlabel(\"Simulation time\", fontsize=16)\n",
    "ax1.set_ylabel(\"Latency time\", fontsize=16)"
   ]
  },
  {
   "cell_type": "markdown",
   "metadata": {},
   "source": [
    "# Hop Count"
   ]
  },
  {
   "cell_type": "code",
   "execution_count": 91,
   "metadata": {},
   "outputs": [],
   "source": [
    "# Hop count\n",
    "cache_distance = {}"
   ]
  },
  {
   "cell_type": "code",
   "execution_count": 103,
   "metadata": {},
   "outputs": [],
   "source": [
    "G = nx.read_graphml('results/graph_binomial_tree_5')"
   ]
  },
  {
   "cell_type": "code",
   "execution_count": 93,
   "metadata": {},
   "outputs": [
    {
     "name": "stdout",
     "output_type": "stream",
     "text": [
      "['0', '32', '65', '2', '35', '4', '6', '103', '109', '14', '15', '20', '110', '100', '1', '96', '3', '102', '41', '11', '80', '50', '51', '52', '111', '75', '5', '39', '72', '73', '107', '47', '83', '87', '90', '92', '63', '7', '104', '76', '44', '112', '48', '29', '94', '97', '67', '70', '8', '16', '82', '86', '88', '60', '61', '101', '12', '13', '25', '26', '28', '30', '34', '55', '89', '91', '93', '95', '108', '17', '21', '38', '40', '45', '46', '53', '57', '79', '85', '98', '99', '9', '18', '19', '22', '23', '42', '54', '64', '66', '74', '81', '84', '105', '10', '24', '27', '31', '33', '36', '37', '43', '49', '56', '58', '59', '62', '68', '69', '71', '77', '78', '106', '184', '192', '189', '188', '186', '158', '178', '172', '145', '130', '183', '142', '153', '113', '154', '149', '138', '165', '119', '136', '190', '143', '170', '180', '177', '167', '156', '148', '126', '157', '150', '179', '187', '123', '155', '132', '191', '163', '176', '147', '135', '171', '114', '164', '121', '124', '144', '125', '181', '182', '166', '159', '128', '133', '185', '175', '139', '168', '134', '140', '174', '122', '115', '117', '120', '127', '160', '137', '141', '173', '162', '129', '161', '152', '169', '146', '131', '116', '118', '151', '197', '195', '193', '196', '194', '198', '199']\n"
     ]
    }
   ],
   "source": [
    "print(G.nodes())"
   ]
  },
  {
   "cell_type": "code",
   "execution_count": 94,
   "metadata": {},
   "outputs": [],
   "source": [
    "def compute_distance(k):\n",
    "    return nx.shortest_path_length(G,str(k[0]),str(k[1]))"
   ]
  },
  {
   "cell_type": "code",
   "execution_count": 95,
   "metadata": {},
   "outputs": [],
   "source": [
    "for row in df[[\"TOPO.src\",\"TOPO.dst\"]].iterrows():\n",
    "    k = (row[1][0],row[1][1])\n",
    "    if not k in cache_distance.keys():\n",
    "        cache_distance[k] = compute_distance(k)"
   ]
  },
  {
   "cell_type": "code",
   "execution_count": 96,
   "metadata": {},
   "outputs": [
    {
     "name": "stdout",
     "output_type": "stream",
     "text": [
      "Counter({4: 46, 3: 29, 5: 17, 2: 12, 6: 9, 0: 4, 1: 4, 7: 1})\n"
     ]
    }
   ],
   "source": [
    "x = cache_distance.values() \n",
    "counter = collections.Counter(x)\n",
    "print(counter)"
   ]
  },
  {
   "cell_type": "code",
   "execution_count": 97,
   "metadata": {},
   "outputs": [],
   "source": [
    "data_a = {}\n",
    "for k in range(10):\n",
    "    data_a[k] = counter[k]"
   ]
  },
  {
   "cell_type": "code",
   "execution_count": 98,
   "metadata": {},
   "outputs": [
    {
     "data": {
      "text/plain": [
       "{0: 4, 1: 4, 2: 12, 3: 29, 4: 46, 5: 17, 6: 9, 7: 1, 8: 0, 9: 0}"
      ]
     },
     "execution_count": 98,
     "metadata": {},
     "output_type": "execute_result"
    }
   ],
   "source": [
    "data_a"
   ]
  },
  {
   "cell_type": "code",
   "execution_count": 99,
   "metadata": {},
   "outputs": [],
   "source": [
    "data_a = data_a.values()"
   ]
  },
  {
   "cell_type": "code",
   "execution_count": 100,
   "metadata": {},
   "outputs": [],
   "source": [
    "ticks = range(10)"
   ]
  },
  {
   "cell_type": "code",
   "execution_count": 101,
   "metadata": {},
   "outputs": [],
   "source": [
    "N = len(ticks)\n",
    "ind = np.array(ticks)\n",
    "width = 0.45"
   ]
  },
  {
   "cell_type": "code",
   "execution_count": 102,
   "metadata": {},
   "outputs": [
    {
     "data": {
      "image/png": "[encoded data removed]",
      "text/plain": [
       "<Figure size 576x288 with 1 Axes>"
      ]
     },
     "metadata": {
      "needs_background": "light"
     },
     "output_type": "display_data"
    }
   ],
   "source": [
    "fig, ax = plt.subplots(figsize=(8.0,4.0))\n",
    "ax.get_xaxis().set_ticks(range(0, len(ticks) * 2, 2))\n",
    "r = ax.bar(ind, data_a, width, color='r')\n",
    "ax.set_xticks(ind+ width/2)\n",
    "ax.set_xticklabels(ticks, fontsize=12)\n",
    "#ax.set_title(\"App\")\n",
    "ax.set_xlim(-width, len(ticks))\n",
    "ax.plot([], c='#a6bddb', label=\"No LABEL\",linewidth=3)\n",
    "ax.set_xlabel(\"Hop count among services\", fontsize=18)\n",
    "ax.set_ylabel(\"Quantity\", fontsize=20)\n",
    "plt.legend([r],['No label'],loc=\"upper right\",fontsize=14)\n",
    "plt.tight_layout()"
   ]
  },
  {
   "cell_type": "code",
   "execution_count": null,
   "metadata": {},
   "outputs": [],
   "source": []
  },
  {
   "cell_type": "code",
   "execution_count": null,
   "metadata": {},
   "outputs": [],
   "source": []
  }
 ],
 "metadata": {
  "kernelspec": {
   "display_name": "Python 3",
   "language": "python",
   "name": "python3"
  },
  "language_info": {
   "codemirror_mode": {
    "name": "ipython",
    "version": 3
   },
   "file_extension": ".py",
   "mimetype": "text/x-python",
   "name": "python",
   "nbconvert_exporter": "python",
   "pygments_lexer": "ipython3",
   "version": "3.8.3"
  }
 },
 "nbformat": 4,
 "nbformat_minor": 4
}
