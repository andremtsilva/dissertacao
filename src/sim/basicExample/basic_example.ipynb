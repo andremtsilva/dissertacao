{
 "cells": [
  {
   "cell_type": "code",
   "execution_count": 97,
   "metadata": {},
   "outputs": [],
   "source": [
    "import pandas as pd\n",
    "import matplotlib.pyplot as plt\n",
    "import networkx as nx\n",
    "import collections\n",
    "import numpy as np"
   ]
  },
  {
   "cell_type": "code",
   "execution_count": 98,
   "metadata": {},
   "outputs": [],
   "source": [
    "df = pd.read_csv('results/sim_trace.csv')"
   ]
  },
  {
   "cell_type": "code",
   "execution_count": 99,
   "metadata": {},
   "outputs": [
    {
     "name": "stdout",
     "output_type": "stream",
     "text": [
      "<class 'pandas.core.frame.DataFrame'>\n",
      "RangeIndex: 54 entries, 0 to 53\n",
      "Data columns (total 15 columns):\n",
      " #   Column          Non-Null Count  Dtype  \n",
      "---  ------          --------------  -----  \n",
      " 0   id              54 non-null     int64  \n",
      " 1   type            54 non-null     object \n",
      " 2   app             54 non-null     int64  \n",
      " 3   module          54 non-null     object \n",
      " 4   message         54 non-null     object \n",
      " 5   DES.src         54 non-null     int64  \n",
      " 6   DES.dst         54 non-null     int64  \n",
      " 7   TOPO.src        54 non-null     int64  \n",
      " 8   TOPO.dst        54 non-null     int64  \n",
      " 9   module.src      54 non-null     object \n",
      " 10  service         54 non-null     float64\n",
      " 11  time_in         54 non-null     float64\n",
      " 12  time_out        54 non-null     float64\n",
      " 13  time_emit       54 non-null     float64\n",
      " 14  time_reception  54 non-null     float64\n",
      "dtypes: float64(5), int64(6), object(4)\n",
      "memory usage: 6.5+ KB\n"
     ]
    }
   ],
   "source": [
    "df.info()"
   ]
  },
  {
   "cell_type": "code",
   "execution_count": 100,
   "metadata": {},
   "outputs": [],
   "source": [
    "df[\"time_latency\"] = df[\"time_reception\"] - df[\"time_emit\"]\n",
    "df[\"time_wait\"] = df[\"time_in\"] - df[\"time_reception\"]  \n",
    "df[\"time_service\"] = df[\"time_out\"] - df[\"time_in\"]\n",
    "df[\"time_response\"] = df[\"time_out\"] - df[\"time_reception\"]\n",
    "df[\"time_total_response\"] = df[\"time_response\"] + df[\"time_latency\"]"
   ]
  },
  {
   "cell_type": "code",
   "execution_count": 101,
   "metadata": {},
   "outputs": [],
   "source": [
    "# convert index to date type in order to use resample and agreegate functions of pandas\n",
    "df[\"date\"]=df.time_in.astype('datetime64[s]')\n",
    "df.index = df.date"
   ]
  },
  {
   "cell_type": "code",
   "execution_count": 102,
   "metadata": {},
   "outputs": [
    {
     "data": {
      "text/html": [
       "<div>\n",
       "<style scoped>\n",
       "    .dataframe tbody tr th:only-of-type {\n",
       "        vertical-align: middle;\n",
       "    }\n",
       "\n",
       "    .dataframe tbody tr th {\n",
       "        vertical-align: top;\n",
       "    }\n",
       "\n",
       "    .dataframe thead th {\n",
       "        text-align: right;\n",
       "    }\n",
       "</style>\n",
       "<table border=\"1\" class=\"dataframe\">\n",
       "  <thead>\n",
       "    <tr style=\"text-align: right;\">\n",
       "      <th></th>\n",
       "      <th>id</th>\n",
       "      <th>type</th>\n",
       "      <th>app</th>\n",
       "      <th>module</th>\n",
       "      <th>message</th>\n",
       "      <th>DES.src</th>\n",
       "      <th>DES.dst</th>\n",
       "      <th>TOPO.src</th>\n",
       "      <th>TOPO.dst</th>\n",
       "      <th>module.src</th>\n",
       "      <th>...</th>\n",
       "      <th>time_in</th>\n",
       "      <th>time_out</th>\n",
       "      <th>time_emit</th>\n",
       "      <th>time_reception</th>\n",
       "      <th>time_latency</th>\n",
       "      <th>time_wait</th>\n",
       "      <th>time_service</th>\n",
       "      <th>time_response</th>\n",
       "      <th>time_total_response</th>\n",
       "      <th>date</th>\n",
       "    </tr>\n",
       "    <tr>\n",
       "      <th>date</th>\n",
       "      <th></th>\n",
       "      <th></th>\n",
       "      <th></th>\n",
       "      <th></th>\n",
       "      <th></th>\n",
       "      <th></th>\n",
       "      <th></th>\n",
       "      <th></th>\n",
       "      <th></th>\n",
       "      <th></th>\n",
       "      <th></th>\n",
       "      <th></th>\n",
       "      <th></th>\n",
       "      <th></th>\n",
       "      <th></th>\n",
       "      <th></th>\n",
       "      <th></th>\n",
       "      <th></th>\n",
       "      <th></th>\n",
       "      <th></th>\n",
       "      <th></th>\n",
       "    </tr>\n",
       "  </thead>\n",
       "  <tbody>\n",
       "    <tr>\n",
       "      <th>1970-01-01 00:01:41</th>\n",
       "      <td>1</td>\n",
       "      <td>COMP_M</td>\n",
       "      <td>0</td>\n",
       "      <td>0_01</td>\n",
       "      <td>M.USER.APP.0</td>\n",
       "      <td>0</td>\n",
       "      <td>6</td>\n",
       "      <td>1</td>\n",
       "      <td>0</td>\n",
       "      <td>None</td>\n",
       "      <td>...</td>\n",
       "      <td>101.00002</td>\n",
       "      <td>101.10002</td>\n",
       "      <td>100.0</td>\n",
       "      <td>101.00002</td>\n",
       "      <td>1.00002</td>\n",
       "      <td>0.0</td>\n",
       "      <td>0.1</td>\n",
       "      <td>0.1</td>\n",
       "      <td>1.10002</td>\n",
       "      <td>1970-01-01 00:01:41</td>\n",
       "    </tr>\n",
       "    <tr>\n",
       "      <th>1970-01-01 00:01:41</th>\n",
       "      <td>2</td>\n",
       "      <td>COMP_M</td>\n",
       "      <td>1</td>\n",
       "      <td>1_01</td>\n",
       "      <td>M.USER.APP.1</td>\n",
       "      <td>1</td>\n",
       "      <td>7</td>\n",
       "      <td>2</td>\n",
       "      <td>0</td>\n",
       "      <td>None</td>\n",
       "      <td>...</td>\n",
       "      <td>101.00002</td>\n",
       "      <td>101.10002</td>\n",
       "      <td>100.0</td>\n",
       "      <td>101.00002</td>\n",
       "      <td>1.00002</td>\n",
       "      <td>0.0</td>\n",
       "      <td>0.1</td>\n",
       "      <td>0.1</td>\n",
       "      <td>1.10002</td>\n",
       "      <td>1970-01-01 00:01:41</td>\n",
       "    </tr>\n",
       "    <tr>\n",
       "      <th>1970-01-01 00:01:41</th>\n",
       "      <td>4</td>\n",
       "      <td>COMP_M</td>\n",
       "      <td>3</td>\n",
       "      <td>3_01</td>\n",
       "      <td>M.USER.APP.3</td>\n",
       "      <td>3</td>\n",
       "      <td>9</td>\n",
       "      <td>4</td>\n",
       "      <td>0</td>\n",
       "      <td>None</td>\n",
       "      <td>...</td>\n",
       "      <td>101.00002</td>\n",
       "      <td>101.10002</td>\n",
       "      <td>100.0</td>\n",
       "      <td>101.00002</td>\n",
       "      <td>1.00002</td>\n",
       "      <td>0.0</td>\n",
       "      <td>0.1</td>\n",
       "      <td>0.1</td>\n",
       "      <td>1.10002</td>\n",
       "      <td>1970-01-01 00:01:41</td>\n",
       "    </tr>\n",
       "    <tr>\n",
       "      <th>1970-01-01 00:01:42</th>\n",
       "      <td>3</td>\n",
       "      <td>COMP_M</td>\n",
       "      <td>2</td>\n",
       "      <td>2_01</td>\n",
       "      <td>M.USER.APP.2</td>\n",
       "      <td>2</td>\n",
       "      <td>8</td>\n",
       "      <td>3</td>\n",
       "      <td>0</td>\n",
       "      <td>None</td>\n",
       "      <td>...</td>\n",
       "      <td>102.00004</td>\n",
       "      <td>102.10004</td>\n",
       "      <td>100.0</td>\n",
       "      <td>102.00004</td>\n",
       "      <td>2.00004</td>\n",
       "      <td>0.0</td>\n",
       "      <td>0.1</td>\n",
       "      <td>0.1</td>\n",
       "      <td>2.10004</td>\n",
       "      <td>1970-01-01 00:01:42</td>\n",
       "    </tr>\n",
       "    <tr>\n",
       "      <th>1970-01-01 00:01:42</th>\n",
       "      <td>5</td>\n",
       "      <td>COMP_M</td>\n",
       "      <td>4</td>\n",
       "      <td>4_01</td>\n",
       "      <td>M.USER.APP.4</td>\n",
       "      <td>4</td>\n",
       "      <td>10</td>\n",
       "      <td>5</td>\n",
       "      <td>0</td>\n",
       "      <td>None</td>\n",
       "      <td>...</td>\n",
       "      <td>102.00004</td>\n",
       "      <td>102.10004</td>\n",
       "      <td>100.0</td>\n",
       "      <td>102.00004</td>\n",
       "      <td>2.00004</td>\n",
       "      <td>0.0</td>\n",
       "      <td>0.1</td>\n",
       "      <td>0.1</td>\n",
       "      <td>2.10004</td>\n",
       "      <td>1970-01-01 00:01:42</td>\n",
       "    </tr>\n",
       "  </tbody>\n",
       "</table>\n",
       "<p>5 rows × 21 columns</p>\n",
       "</div>"
      ],
      "text/plain": [
       "                     id    type  app module       message  DES.src  DES.dst  \\\n",
       "date                                                                          \n",
       "1970-01-01 00:01:41   1  COMP_M    0   0_01  M.USER.APP.0        0        6   \n",
       "1970-01-01 00:01:41   2  COMP_M    1   1_01  M.USER.APP.1        1        7   \n",
       "1970-01-01 00:01:41   4  COMP_M    3   3_01  M.USER.APP.3        3        9   \n",
       "1970-01-01 00:01:42   3  COMP_M    2   2_01  M.USER.APP.2        2        8   \n",
       "1970-01-01 00:01:42   5  COMP_M    4   4_01  M.USER.APP.4        4       10   \n",
       "\n",
       "                     TOPO.src  TOPO.dst module.src  ...    time_in   time_out  \\\n",
       "date                                                ...                         \n",
       "1970-01-01 00:01:41         1         0       None  ...  101.00002  101.10002   \n",
       "1970-01-01 00:01:41         2         0       None  ...  101.00002  101.10002   \n",
       "1970-01-01 00:01:41         4         0       None  ...  101.00002  101.10002   \n",
       "1970-01-01 00:01:42         3         0       None  ...  102.00004  102.10004   \n",
       "1970-01-01 00:01:42         5         0       None  ...  102.00004  102.10004   \n",
       "\n",
       "                     time_emit  time_reception  time_latency  time_wait  \\\n",
       "date                                                                      \n",
       "1970-01-01 00:01:41      100.0       101.00002       1.00002        0.0   \n",
       "1970-01-01 00:01:41      100.0       101.00002       1.00002        0.0   \n",
       "1970-01-01 00:01:41      100.0       101.00002       1.00002        0.0   \n",
       "1970-01-01 00:01:42      100.0       102.00004       2.00004        0.0   \n",
       "1970-01-01 00:01:42      100.0       102.00004       2.00004        0.0   \n",
       "\n",
       "                     time_service  time_response  time_total_response  \\\n",
       "date                                                                    \n",
       "1970-01-01 00:01:41           0.1            0.1              1.10002   \n",
       "1970-01-01 00:01:41           0.1            0.1              1.10002   \n",
       "1970-01-01 00:01:41           0.1            0.1              1.10002   \n",
       "1970-01-01 00:01:42           0.1            0.1              2.10004   \n",
       "1970-01-01 00:01:42           0.1            0.1              2.10004   \n",
       "\n",
       "                                   date  \n",
       "date                                     \n",
       "1970-01-01 00:01:41 1970-01-01 00:01:41  \n",
       "1970-01-01 00:01:41 1970-01-01 00:01:41  \n",
       "1970-01-01 00:01:41 1970-01-01 00:01:41  \n",
       "1970-01-01 00:01:42 1970-01-01 00:01:42  \n",
       "1970-01-01 00:01:42 1970-01-01 00:01:42  \n",
       "\n",
       "[5 rows x 21 columns]"
      ]
     },
     "execution_count": 102,
     "metadata": {},
     "output_type": "execute_result"
    }
   ],
   "source": [
    "df.head()"
   ]
  },
  {
   "cell_type": "code",
   "execution_count": 103,
   "metadata": {},
   "outputs": [],
   "source": [
    "df_resample = df.resample('100s').agg(dict(time_latency='mean'))"
   ]
  },
  {
   "cell_type": "code",
   "execution_count": 104,
   "metadata": {},
   "outputs": [
    {
     "data": {
      "text/plain": [
       "(9, 1)"
      ]
     },
     "execution_count": 104,
     "metadata": {},
     "output_type": "execute_result"
    }
   ],
   "source": [
    "df_resample.shape"
   ]
  },
  {
   "cell_type": "code",
   "execution_count": 105,
   "metadata": {},
   "outputs": [],
   "source": [
    "timeLatency = df_resample.time_latency.values"
   ]
  },
  {
   "cell_type": "code",
   "execution_count": 106,
   "metadata": {},
   "outputs": [],
   "source": [
    "ticks = range(len(timeLatency))"
   ]
  },
  {
   "cell_type": "code",
   "execution_count": 107,
   "metadata": {},
   "outputs": [
    {
     "data": {
      "text/plain": [
       "Text(0, 0.5, 'Latency time')"
      ]
     },
     "execution_count": 107,
     "metadata": {},
     "output_type": "execute_result"
    },
    {
     "data": {
      "image/png": "[encoded data removed]",
      "text/plain": [
       "<Figure size 432x288 with 1 Axes>"
      ]
     },
     "metadata": {
      "needs_background": "light"
     },
     "output_type": "display_data"
    }
   ],
   "source": [
    "fig = plt.figure()\n",
    "ax1 = fig.add_subplot(111)\n",
    "ax1.plot(ticks, timeLatency, '-')\n",
    "ax1.set_ylim(timeLatency.min()-0.5,6)#timeLatency.max()+0.5)\n",
    "ax1.set_xlabel(\"Simulation time\", fontsize=16)\n",
    "ax1.set_ylabel(\"Latency time\", fontsize=16)"
   ]
  },
  {
   "cell_type": "markdown",
   "metadata": {},
   "source": [
    "# Latency"
   ]
  },
  {
   "cell_type": "code",
   "execution_count": 108,
   "metadata": {},
   "outputs": [],
   "source": [
    "df_resample = df.resample('100s').agg(dict(time_latency='mean'))"
   ]
  },
  {
   "cell_type": "code",
   "execution_count": 109,
   "metadata": {},
   "outputs": [
    {
     "data": {
      "text/plain": [
       "(9, 1)"
      ]
     },
     "execution_count": 109,
     "metadata": {},
     "output_type": "execute_result"
    }
   ],
   "source": [
    "df_resample.shape"
   ]
  },
  {
   "cell_type": "code",
   "execution_count": 110,
   "metadata": {},
   "outputs": [],
   "source": [
    "timeLatency = df_resample.time_latency.values"
   ]
  },
  {
   "cell_type": "code",
   "execution_count": 111,
   "metadata": {},
   "outputs": [],
   "source": [
    "ticks = range(len(timeLatency))"
   ]
  },
  {
   "cell_type": "code",
   "execution_count": 112,
   "metadata": {},
   "outputs": [
    {
     "data": {
      "text/plain": [
       "Text(0, 0.5, 'Latency time')"
      ]
     },
     "execution_count": 112,
     "metadata": {},
     "output_type": "execute_result"
    },
    {
     "data": {
      "image/png": "[encoded data removed]",
      "text/plain": [
       "<Figure size 432x288 with 1 Axes>"
      ]
     },
     "metadata": {
      "needs_background": "light"
     },
     "output_type": "display_data"
    }
   ],
   "source": [
    "fig = plt.figure()\n",
    "ax1 = fig.add_subplot(111)\n",
    "ax1.plot(ticks, timeLatency, '-')\n",
    "ax1.set_ylim(timeLatency.min()-0.5,6)#timeLatency.max()+0.5)\n",
    "ax1.set_xlabel(\"Simulation time\", fontsize=16)\n",
    "ax1.set_ylabel(\"Latency time\", fontsize=16)"
   ]
  },
  {
   "cell_type": "markdown",
   "metadata": {},
   "source": [
    "# Hop Count"
   ]
  },
  {
   "cell_type": "code",
   "execution_count": 113,
   "metadata": {},
   "outputs": [],
   "source": [
    "# Hop count\n",
    "cache_distance = {}"
   ]
  },
  {
   "cell_type": "code",
   "execution_count": 114,
   "metadata": {},
   "outputs": [],
   "source": [
    "G = nx.read_graphml('results/graph_binomial_tree_3.graphml')"
   ]
  },
  {
   "cell_type": "code",
   "execution_count": 115,
   "metadata": {},
   "outputs": [
    {
     "name": "stdout",
     "output_type": "stream",
     "text": [
      "['0', '1', '2', '3', '4', '5', '6', '7']\n"
     ]
    }
   ],
   "source": [
    "print(G.nodes())"
   ]
  },
  {
   "cell_type": "code",
   "execution_count": 116,
   "metadata": {},
   "outputs": [],
   "source": [
    "def compute_distance(k):\n",
    "    return nx.shortest_path_length(G,str(k[0]),str(k[1]))"
   ]
  },
  {
   "cell_type": "code",
   "execution_count": 117,
   "metadata": {},
   "outputs": [],
   "source": [
    "for row in df[[\"TOPO.src\",\"TOPO.dst\"]].iterrows():\n",
    "    k = (row[1][0],row[1][1])\n",
    "    if not k in cache_distance.keys():\n",
    "        cache_distance[k] = compute_distance(k)"
   ]
  },
  {
   "cell_type": "code",
   "execution_count": 118,
   "metadata": {},
   "outputs": [
    {
     "name": "stdout",
     "output_type": "stream",
     "text": [
      "Counter({1: 3, 2: 3})\n"
     ]
    }
   ],
   "source": [
    "x = cache_distance.values() \n",
    "counter = collections.Counter(x)\n",
    "print(counter)"
   ]
  },
  {
   "cell_type": "code",
   "execution_count": 119,
   "metadata": {},
   "outputs": [],
   "source": [
    "data_a = {}\n",
    "for k in range(8):\n",
    "    data_a[k] = counter[k]"
   ]
  },
  {
   "cell_type": "code",
   "execution_count": 120,
   "metadata": {},
   "outputs": [
    {
     "data": {
      "text/plain": [
       "{0: 0, 1: 3, 2: 3, 3: 0, 4: 0, 5: 0, 6: 0, 7: 0}"
      ]
     },
     "execution_count": 120,
     "metadata": {},
     "output_type": "execute_result"
    }
   ],
   "source": [
    "data_a"
   ]
  },
  {
   "cell_type": "code",
   "execution_count": 121,
   "metadata": {},
   "outputs": [],
   "source": [
    "data_a = data_a.values()"
   ]
  },
  {
   "cell_type": "code",
   "execution_count": 122,
   "metadata": {},
   "outputs": [],
   "source": [
    "ticks = range(8)"
   ]
  },
  {
   "cell_type": "code",
   "execution_count": 123,
   "metadata": {},
   "outputs": [],
   "source": [
    "N = len(ticks)\n",
    "ind = np.array(ticks)\n",
    "width = 0.45"
   ]
  },
  {
   "cell_type": "code",
   "execution_count": 133,
   "metadata": {},
   "outputs": [
    {
     "data": {
      "image/png": "[encoded data removed]",
      "text/plain": [
       "<Figure size 576x288 with 1 Axes>"
      ]
     },
     "metadata": {
      "needs_background": "light"
     },
     "output_type": "display_data"
    }
   ],
   "source": [
    "fig, ax = plt.subplots(figsize=(8.0,4.0))\n",
    "ax.get_xaxis().set_ticks(range(0, len(ticks) * 2, 2))\n",
    "r = ax.bar(ind, data_a, width, color='r')\n",
    "ax.set_xticks(ind+ width/2)\n",
    "ax.set_xticklabels(ticks, fontsize=12)\n",
    "ax.set_title(\"App\")\n",
    "ax.set_xlim(-width, len(ticks))\n",
    "ax.plot([], c='#a6bddb', label=\"No LABEL\",linewidth=3)\n",
    "ax.set_xlabel(\"Hop count among services\", fontsize=18)\n",
    "ax.set_ylabel(\"Quantity\", fontsize=20)\n",
    "plt.legend([r],['Number of Hops'],loc=\"upper right\",fontsize=14)\n",
    "plt.tight_layout()"
   ]
  },
  {
   "cell_type": "code",
   "execution_count": null,
   "metadata": {},
   "outputs": [],
   "source": []
  },
  {
   "cell_type": "code",
   "execution_count": 125,
   "metadata": {},
   "outputs": [],
   "source": [
    "df_link = pd.read_csv('results/sim_trace_link.csv')"
   ]
  },
  {
   "cell_type": "code",
   "execution_count": 132,
   "metadata": {},
   "outputs": [
    {
     "data": {
      "text/html": [
       "<div>\n",
       "<style scoped>\n",
       "    .dataframe tbody tr th:only-of-type {\n",
       "        vertical-align: middle;\n",
       "    }\n",
       "\n",
       "    .dataframe tbody tr th {\n",
       "        vertical-align: top;\n",
       "    }\n",
       "\n",
       "    .dataframe thead th {\n",
       "        text-align: right;\n",
       "    }\n",
       "</style>\n",
       "<table border=\"1\" class=\"dataframe\">\n",
       "  <thead>\n",
       "    <tr style=\"text-align: right;\">\n",
       "      <th></th>\n",
       "      <th>id</th>\n",
       "      <th>type</th>\n",
       "      <th>src</th>\n",
       "      <th>dst</th>\n",
       "      <th>app</th>\n",
       "      <th>latency</th>\n",
       "      <th>message</th>\n",
       "      <th>ctime</th>\n",
       "      <th>size</th>\n",
       "      <th>buffer</th>\n",
       "    </tr>\n",
       "  </thead>\n",
       "  <tbody>\n",
       "    <tr>\n",
       "      <th>0</th>\n",
       "      <td>1</td>\n",
       "      <td>LINK</td>\n",
       "      <td>1</td>\n",
       "      <td>0</td>\n",
       "      <td>0</td>\n",
       "      <td>1.00002</td>\n",
       "      <td>M.USER.APP.0</td>\n",
       "      <td>100.00000</td>\n",
       "      <td>20</td>\n",
       "      <td>0</td>\n",
       "    </tr>\n",
       "    <tr>\n",
       "      <th>1</th>\n",
       "      <td>2</td>\n",
       "      <td>LINK</td>\n",
       "      <td>2</td>\n",
       "      <td>0</td>\n",
       "      <td>1</td>\n",
       "      <td>1.00002</td>\n",
       "      <td>M.USER.APP.1</td>\n",
       "      <td>100.00000</td>\n",
       "      <td>20</td>\n",
       "      <td>1</td>\n",
       "    </tr>\n",
       "    <tr>\n",
       "      <th>2</th>\n",
       "      <td>3</td>\n",
       "      <td>LINK</td>\n",
       "      <td>3</td>\n",
       "      <td>2</td>\n",
       "      <td>2</td>\n",
       "      <td>1.00002</td>\n",
       "      <td>M.USER.APP.2</td>\n",
       "      <td>100.00000</td>\n",
       "      <td>20</td>\n",
       "      <td>2</td>\n",
       "    </tr>\n",
       "    <tr>\n",
       "      <th>3</th>\n",
       "      <td>4</td>\n",
       "      <td>LINK</td>\n",
       "      <td>4</td>\n",
       "      <td>0</td>\n",
       "      <td>3</td>\n",
       "      <td>1.00002</td>\n",
       "      <td>M.USER.APP.3</td>\n",
       "      <td>100.00000</td>\n",
       "      <td>20</td>\n",
       "      <td>3</td>\n",
       "    </tr>\n",
       "    <tr>\n",
       "      <th>4</th>\n",
       "      <td>5</td>\n",
       "      <td>LINK</td>\n",
       "      <td>5</td>\n",
       "      <td>4</td>\n",
       "      <td>4</td>\n",
       "      <td>1.00002</td>\n",
       "      <td>M.USER.APP.4</td>\n",
       "      <td>100.00000</td>\n",
       "      <td>20</td>\n",
       "      <td>4</td>\n",
       "    </tr>\n",
       "    <tr>\n",
       "      <th>5</th>\n",
       "      <td>6</td>\n",
       "      <td>LINK</td>\n",
       "      <td>6</td>\n",
       "      <td>4</td>\n",
       "      <td>5</td>\n",
       "      <td>1.00002</td>\n",
       "      <td>M.USER.APP.5</td>\n",
       "      <td>100.00000</td>\n",
       "      <td>20</td>\n",
       "      <td>5</td>\n",
       "    </tr>\n",
       "    <tr>\n",
       "      <th>6</th>\n",
       "      <td>3</td>\n",
       "      <td>LINK</td>\n",
       "      <td>2</td>\n",
       "      <td>0</td>\n",
       "      <td>2</td>\n",
       "      <td>1.00002</td>\n",
       "      <td>M.USER.APP.2</td>\n",
       "      <td>101.00002</td>\n",
       "      <td>20</td>\n",
       "      <td>0</td>\n",
       "    </tr>\n",
       "    <tr>\n",
       "      <th>7</th>\n",
       "      <td>5</td>\n",
       "      <td>LINK</td>\n",
       "      <td>4</td>\n",
       "      <td>0</td>\n",
       "      <td>4</td>\n",
       "      <td>1.00002</td>\n",
       "      <td>M.USER.APP.4</td>\n",
       "      <td>101.00002</td>\n",
       "      <td>20</td>\n",
       "      <td>1</td>\n",
       "    </tr>\n",
       "    <tr>\n",
       "      <th>8</th>\n",
       "      <td>6</td>\n",
       "      <td>LINK</td>\n",
       "      <td>4</td>\n",
       "      <td>0</td>\n",
       "      <td>5</td>\n",
       "      <td>1.00002</td>\n",
       "      <td>M.USER.APP.5</td>\n",
       "      <td>101.00002</td>\n",
       "      <td>20</td>\n",
       "      <td>2</td>\n",
       "    </tr>\n",
       "    <tr>\n",
       "      <th>9</th>\n",
       "      <td>7</td>\n",
       "      <td>LINK</td>\n",
       "      <td>1</td>\n",
       "      <td>0</td>\n",
       "      <td>0</td>\n",
       "      <td>1.00002</td>\n",
       "      <td>M.USER.APP.0</td>\n",
       "      <td>200.00000</td>\n",
       "      <td>20</td>\n",
       "      <td>0</td>\n",
       "    </tr>\n",
       "  </tbody>\n",
       "</table>\n",
       "</div>"
      ],
      "text/plain": [
       "   id  type  src  dst  app  latency       message      ctime  size  buffer\n",
       "0   1  LINK    1    0    0  1.00002  M.USER.APP.0  100.00000    20       0\n",
       "1   2  LINK    2    0    1  1.00002  M.USER.APP.1  100.00000    20       1\n",
       "2   3  LINK    3    2    2  1.00002  M.USER.APP.2  100.00000    20       2\n",
       "3   4  LINK    4    0    3  1.00002  M.USER.APP.3  100.00000    20       3\n",
       "4   5  LINK    5    4    4  1.00002  M.USER.APP.4  100.00000    20       4\n",
       "5   6  LINK    6    4    5  1.00002  M.USER.APP.5  100.00000    20       5\n",
       "6   3  LINK    2    0    2  1.00002  M.USER.APP.2  101.00002    20       0\n",
       "7   5  LINK    4    0    4  1.00002  M.USER.APP.4  101.00002    20       1\n",
       "8   6  LINK    4    0    5  1.00002  M.USER.APP.5  101.00002    20       2\n",
       "9   7  LINK    1    0    0  1.00002  M.USER.APP.0  200.00000    20       0"
      ]
     },
     "execution_count": 132,
     "metadata": {},
     "output_type": "execute_result"
    }
   ],
   "source": [
    "df_link.head(10)"
   ]
  },
  {
   "cell_type": "code",
   "execution_count": 127,
   "metadata": {},
   "outputs": [
    {
     "name": "stdout",
     "output_type": "stream",
     "text": [
      "total messages transmited = 81\n"
     ]
    }
   ],
   "source": [
    "total_messages = len(df_link)\n",
    "print(f'total messages transmited = {total_messages}')"
   ]
  },
  {
   "cell_type": "code",
   "execution_count": 128,
   "metadata": {},
   "outputs": [
    {
     "name": "stdout",
     "output_type": "stream",
     "text": [
      "total bytes transmited = 1620\n"
     ]
    }
   ],
   "source": [
    "bytes_transmited = df_link[\"size\"].sum()\n",
    "print(f'total bytes transmited = {bytes_transmited}')"
   ]
  },
  {
   "cell_type": "code",
   "execution_count": 129,
   "metadata": {},
   "outputs": [],
   "source": [
    "new_dlink = df_link[(df_link.id == 3)]\n"
   ]
  },
  {
   "cell_type": "code",
   "execution_count": 130,
   "metadata": {},
   "outputs": [
    {
     "data": {
      "text/html": [
       "<div>\n",
       "<style scoped>\n",
       "    .dataframe tbody tr th:only-of-type {\n",
       "        vertical-align: middle;\n",
       "    }\n",
       "\n",
       "    .dataframe tbody tr th {\n",
       "        vertical-align: top;\n",
       "    }\n",
       "\n",
       "    .dataframe thead th {\n",
       "        text-align: right;\n",
       "    }\n",
       "</style>\n",
       "<table border=\"1\" class=\"dataframe\">\n",
       "  <thead>\n",
       "    <tr style=\"text-align: right;\">\n",
       "      <th></th>\n",
       "      <th>id</th>\n",
       "      <th>type</th>\n",
       "      <th>src</th>\n",
       "      <th>dst</th>\n",
       "      <th>app</th>\n",
       "      <th>latency</th>\n",
       "      <th>message</th>\n",
       "      <th>ctime</th>\n",
       "      <th>size</th>\n",
       "      <th>buffer</th>\n",
       "    </tr>\n",
       "  </thead>\n",
       "  <tbody>\n",
       "    <tr>\n",
       "      <th>2</th>\n",
       "      <td>3</td>\n",
       "      <td>LINK</td>\n",
       "      <td>3</td>\n",
       "      <td>2</td>\n",
       "      <td>2</td>\n",
       "      <td>1.00002</td>\n",
       "      <td>M.USER.APP.2</td>\n",
       "      <td>100.00000</td>\n",
       "      <td>20</td>\n",
       "      <td>2</td>\n",
       "    </tr>\n",
       "    <tr>\n",
       "      <th>6</th>\n",
       "      <td>3</td>\n",
       "      <td>LINK</td>\n",
       "      <td>2</td>\n",
       "      <td>0</td>\n",
       "      <td>2</td>\n",
       "      <td>1.00002</td>\n",
       "      <td>M.USER.APP.2</td>\n",
       "      <td>101.00002</td>\n",
       "      <td>20</td>\n",
       "      <td>0</td>\n",
       "    </tr>\n",
       "  </tbody>\n",
       "</table>\n",
       "</div>"
      ],
      "text/plain": [
       "   id  type  src  dst  app  latency       message      ctime  size  buffer\n",
       "2   3  LINK    3    2    2  1.00002  M.USER.APP.2  100.00000    20       2\n",
       "6   3  LINK    2    0    2  1.00002  M.USER.APP.2  101.00002    20       0"
      ]
     },
     "execution_count": 130,
     "metadata": {},
     "output_type": "execute_result"
    }
   ],
   "source": [
    "new_dlink"
   ]
  },
  {
   "cell_type": "code",
   "execution_count": null,
   "metadata": {},
   "outputs": [],
   "source": []
  },
  {
   "cell_type": "code",
   "execution_count": null,
   "metadata": {},
   "outputs": [],
   "source": []
  },
  {
   "cell_type": "code",
   "execution_count": null,
   "metadata": {},
   "outputs": [],
   "source": []
  },
  {
   "cell_type": "code",
   "execution_count": null,
   "metadata": {},
   "outputs": [],
   "source": []
  }
 ],
 "metadata": {
  "kernelspec": {
   "display_name": "Python 3",
   "language": "python",
   "name": "python3"
  },
  "language_info": {
   "codemirror_mode": {
    "name": "ipython",
    "version": 3
   },
   "file_extension": ".py",
   "mimetype": "text/x-python",
   "name": "python",
   "nbconvert_exporter": "python",
   "pygments_lexer": "ipython3",
   "version": "3.8.3"
  }
 },
 "nbformat": 4,
 "nbformat_minor": 4
}
