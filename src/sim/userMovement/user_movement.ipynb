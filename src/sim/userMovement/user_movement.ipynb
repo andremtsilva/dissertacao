{
 "cells": [
  {
   "cell_type": "code",
   "execution_count": 26,
   "metadata": {},
   "outputs": [],
   "source": [
    "import pandas as pd\n",
    "import matplotlib.pyplot as plt\n",
    "import networkx as nx\n",
    "import collections\n",
    "import numpy as np"
   ]
  },
  {
   "cell_type": "code",
   "execution_count": 27,
   "metadata": {},
   "outputs": [],
   "source": [
    "df = pd.read_csv('results/sim_trace.csv')"
   ]
  },
  {
   "cell_type": "code",
   "execution_count": 28,
   "metadata": {},
   "outputs": [
    {
     "name": "stdout",
     "output_type": "stream",
     "text": [
      "<class 'pandas.core.frame.DataFrame'>\n",
      "RangeIndex: 2327 entries, 0 to 2326\n",
      "Data columns (total 15 columns):\n",
      "id                2327 non-null int64\n",
      "type              2327 non-null object\n",
      "app               2327 non-null int64\n",
      "module            2327 non-null object\n",
      "message           2327 non-null object\n",
      "DES.src           2327 non-null int64\n",
      "DES.dst           2327 non-null int64\n",
      "TOPO.src          2327 non-null int64\n",
      "TOPO.dst          2327 non-null int64\n",
      "module.src        2327 non-null object\n",
      "service           2327 non-null float64\n",
      "time_in           2327 non-null float64\n",
      "time_out          2327 non-null float64\n",
      "time_emit         2327 non-null float64\n",
      "time_reception    2327 non-null float64\n",
      "dtypes: float64(5), int64(6), object(4)\n",
      "memory usage: 272.8+ KB\n"
     ]
    }
   ],
   "source": [
    "df.info()"
   ]
  },
  {
   "cell_type": "code",
   "execution_count": 29,
   "metadata": {},
   "outputs": [],
   "source": [
    "df[\"time_latency\"] = df[\"time_reception\"] - df[\"time_emit\"]\n",
    "df[\"time_wait\"] = df[\"time_in\"] - df[\"time_reception\"]  \n",
    "df[\"time_service\"] = df[\"time_out\"] - df[\"time_in\"]\n",
    "df[\"time_response\"] = df[\"time_out\"] - df[\"time_reception\"]\n",
    "df[\"time_total_response\"] = df[\"time_response\"] + df[\"time_latency\"]"
   ]
  },
  {
   "cell_type": "code",
   "execution_count": 30,
   "metadata": {},
   "outputs": [],
   "source": [
    "# convert index to date type in order to use resample and agreegate functions of pandas\n",
    "df[\"date\"]=df.time_in.astype('datetime64[s]')\n",
    "df.index = df.date"
   ]
  },
  {
   "cell_type": "code",
   "execution_count": 31,
   "metadata": {},
   "outputs": [
    {
     "data": {
      "text/html": [
       "<div>\n",
       "<style scoped>\n",
       "    .dataframe tbody tr th:only-of-type {\n",
       "        vertical-align: middle;\n",
       "    }\n",
       "\n",
       "    .dataframe tbody tr th {\n",
       "        vertical-align: top;\n",
       "    }\n",
       "\n",
       "    .dataframe thead th {\n",
       "        text-align: right;\n",
       "    }\n",
       "</style>\n",
       "<table border=\"1\" class=\"dataframe\">\n",
       "  <thead>\n",
       "    <tr style=\"text-align: right;\">\n",
       "      <th></th>\n",
       "      <th>id</th>\n",
       "      <th>type</th>\n",
       "      <th>app</th>\n",
       "      <th>module</th>\n",
       "      <th>message</th>\n",
       "      <th>DES.src</th>\n",
       "      <th>DES.dst</th>\n",
       "      <th>TOPO.src</th>\n",
       "      <th>TOPO.dst</th>\n",
       "      <th>module.src</th>\n",
       "      <th>...</th>\n",
       "      <th>time_in</th>\n",
       "      <th>time_out</th>\n",
       "      <th>time_emit</th>\n",
       "      <th>time_reception</th>\n",
       "      <th>time_latency</th>\n",
       "      <th>time_wait</th>\n",
       "      <th>time_service</th>\n",
       "      <th>time_response</th>\n",
       "      <th>time_total_response</th>\n",
       "      <th>date</th>\n",
       "    </tr>\n",
       "    <tr>\n",
       "      <th>date</th>\n",
       "      <th></th>\n",
       "      <th></th>\n",
       "      <th></th>\n",
       "      <th></th>\n",
       "      <th></th>\n",
       "      <th></th>\n",
       "      <th></th>\n",
       "      <th></th>\n",
       "      <th></th>\n",
       "      <th></th>\n",
       "      <th></th>\n",
       "      <th></th>\n",
       "      <th></th>\n",
       "      <th></th>\n",
       "      <th></th>\n",
       "      <th></th>\n",
       "      <th></th>\n",
       "      <th></th>\n",
       "      <th></th>\n",
       "      <th></th>\n",
       "      <th></th>\n",
       "    </tr>\n",
       "  </thead>\n",
       "  <tbody>\n",
       "    <tr>\n",
       "      <th>1970-01-01 01:23:54</th>\n",
       "      <td>1</td>\n",
       "      <td>COMP_M</td>\n",
       "      <td>6</td>\n",
       "      <td>6_01</td>\n",
       "      <td>M.USER.APP.6</td>\n",
       "      <td>9</td>\n",
       "      <td>7</td>\n",
       "      <td>23</td>\n",
       "      <td>0</td>\n",
       "      <td>None</td>\n",
       "      <td>...</td>\n",
       "      <td>5034.00008</td>\n",
       "      <td>5034.30008</td>\n",
       "      <td>5030.0</td>\n",
       "      <td>5034.00008</td>\n",
       "      <td>4.00008</td>\n",
       "      <td>0.0</td>\n",
       "      <td>0.3</td>\n",
       "      <td>0.3</td>\n",
       "      <td>4.30008</td>\n",
       "      <td>1970-01-01 01:23:54</td>\n",
       "    </tr>\n",
       "    <tr>\n",
       "      <th>1970-01-01 01:24:24</th>\n",
       "      <td>2</td>\n",
       "      <td>COMP_M</td>\n",
       "      <td>6</td>\n",
       "      <td>6_01</td>\n",
       "      <td>M.USER.APP.6</td>\n",
       "      <td>9</td>\n",
       "      <td>7</td>\n",
       "      <td>23</td>\n",
       "      <td>0</td>\n",
       "      <td>None</td>\n",
       "      <td>...</td>\n",
       "      <td>5064.00008</td>\n",
       "      <td>5064.30008</td>\n",
       "      <td>5060.0</td>\n",
       "      <td>5064.00008</td>\n",
       "      <td>4.00008</td>\n",
       "      <td>0.0</td>\n",
       "      <td>0.3</td>\n",
       "      <td>0.3</td>\n",
       "      <td>4.30008</td>\n",
       "      <td>1970-01-01 01:24:24</td>\n",
       "    </tr>\n",
       "    <tr>\n",
       "      <th>1970-01-01 01:24:54</th>\n",
       "      <td>3</td>\n",
       "      <td>COMP_M</td>\n",
       "      <td>6</td>\n",
       "      <td>6_01</td>\n",
       "      <td>M.USER.APP.6</td>\n",
       "      <td>9</td>\n",
       "      <td>7</td>\n",
       "      <td>23</td>\n",
       "      <td>0</td>\n",
       "      <td>None</td>\n",
       "      <td>...</td>\n",
       "      <td>5094.00008</td>\n",
       "      <td>5094.30008</td>\n",
       "      <td>5090.0</td>\n",
       "      <td>5094.00008</td>\n",
       "      <td>4.00008</td>\n",
       "      <td>0.0</td>\n",
       "      <td>0.3</td>\n",
       "      <td>0.3</td>\n",
       "      <td>4.30008</td>\n",
       "      <td>1970-01-01 01:24:54</td>\n",
       "    </tr>\n",
       "    <tr>\n",
       "      <th>1970-01-01 01:25:24</th>\n",
       "      <td>4</td>\n",
       "      <td>COMP_M</td>\n",
       "      <td>6</td>\n",
       "      <td>6_01</td>\n",
       "      <td>M.USER.APP.6</td>\n",
       "      <td>9</td>\n",
       "      <td>7</td>\n",
       "      <td>23</td>\n",
       "      <td>0</td>\n",
       "      <td>None</td>\n",
       "      <td>...</td>\n",
       "      <td>5124.00008</td>\n",
       "      <td>5124.30008</td>\n",
       "      <td>5120.0</td>\n",
       "      <td>5124.00008</td>\n",
       "      <td>4.00008</td>\n",
       "      <td>0.0</td>\n",
       "      <td>0.3</td>\n",
       "      <td>0.3</td>\n",
       "      <td>4.30008</td>\n",
       "      <td>1970-01-01 01:25:24</td>\n",
       "    </tr>\n",
       "    <tr>\n",
       "      <th>1970-01-01 01:25:54</th>\n",
       "      <td>5</td>\n",
       "      <td>COMP_M</td>\n",
       "      <td>6</td>\n",
       "      <td>6_01</td>\n",
       "      <td>M.USER.APP.6</td>\n",
       "      <td>9</td>\n",
       "      <td>7</td>\n",
       "      <td>23</td>\n",
       "      <td>0</td>\n",
       "      <td>None</td>\n",
       "      <td>...</td>\n",
       "      <td>5154.00008</td>\n",
       "      <td>5154.30008</td>\n",
       "      <td>5150.0</td>\n",
       "      <td>5154.00008</td>\n",
       "      <td>4.00008</td>\n",
       "      <td>0.0</td>\n",
       "      <td>0.3</td>\n",
       "      <td>0.3</td>\n",
       "      <td>4.30008</td>\n",
       "      <td>1970-01-01 01:25:54</td>\n",
       "    </tr>\n",
       "  </tbody>\n",
       "</table>\n",
       "<p>5 rows × 21 columns</p>\n",
       "</div>"
      ],
      "text/plain": [
       "                     id    type  app module       message  DES.src  DES.dst  \\\n",
       "date                                                                          \n",
       "1970-01-01 01:23:54   1  COMP_M    6   6_01  M.USER.APP.6        9        7   \n",
       "1970-01-01 01:24:24   2  COMP_M    6   6_01  M.USER.APP.6        9        7   \n",
       "1970-01-01 01:24:54   3  COMP_M    6   6_01  M.USER.APP.6        9        7   \n",
       "1970-01-01 01:25:24   4  COMP_M    6   6_01  M.USER.APP.6        9        7   \n",
       "1970-01-01 01:25:54   5  COMP_M    6   6_01  M.USER.APP.6        9        7   \n",
       "\n",
       "                     TOPO.src  TOPO.dst module.src  ...     time_in  \\\n",
       "date                                                ...               \n",
       "1970-01-01 01:23:54        23         0       None  ...  5034.00008   \n",
       "1970-01-01 01:24:24        23         0       None  ...  5064.00008   \n",
       "1970-01-01 01:24:54        23         0       None  ...  5094.00008   \n",
       "1970-01-01 01:25:24        23         0       None  ...  5124.00008   \n",
       "1970-01-01 01:25:54        23         0       None  ...  5154.00008   \n",
       "\n",
       "                       time_out  time_emit  time_reception  time_latency  \\\n",
       "date                                                                       \n",
       "1970-01-01 01:23:54  5034.30008     5030.0      5034.00008       4.00008   \n",
       "1970-01-01 01:24:24  5064.30008     5060.0      5064.00008       4.00008   \n",
       "1970-01-01 01:24:54  5094.30008     5090.0      5094.00008       4.00008   \n",
       "1970-01-01 01:25:24  5124.30008     5120.0      5124.00008       4.00008   \n",
       "1970-01-01 01:25:54  5154.30008     5150.0      5154.00008       4.00008   \n",
       "\n",
       "                     time_wait  time_service  time_response  \\\n",
       "date                                                          \n",
       "1970-01-01 01:23:54        0.0           0.3            0.3   \n",
       "1970-01-01 01:24:24        0.0           0.3            0.3   \n",
       "1970-01-01 01:24:54        0.0           0.3            0.3   \n",
       "1970-01-01 01:25:24        0.0           0.3            0.3   \n",
       "1970-01-01 01:25:54        0.0           0.3            0.3   \n",
       "\n",
       "                     time_total_response                date  \n",
       "date                                                          \n",
       "1970-01-01 01:23:54              4.30008 1970-01-01 01:23:54  \n",
       "1970-01-01 01:24:24              4.30008 1970-01-01 01:24:24  \n",
       "1970-01-01 01:24:54              4.30008 1970-01-01 01:24:54  \n",
       "1970-01-01 01:25:24              4.30008 1970-01-01 01:25:24  \n",
       "1970-01-01 01:25:54              4.30008 1970-01-01 01:25:54  \n",
       "\n",
       "[5 rows x 21 columns]"
      ]
     },
     "execution_count": 31,
     "metadata": {},
     "output_type": "execute_result"
    }
   ],
   "source": [
    "df.head()"
   ]
  },
  {
   "cell_type": "code",
   "execution_count": 32,
   "metadata": {},
   "outputs": [],
   "source": [
    "df_resample = df.resample('100s').agg(dict(time_latency='mean'))"
   ]
  },
  {
   "cell_type": "code",
   "execution_count": 33,
   "metadata": {},
   "outputs": [
    {
     "data": {
      "text/plain": [
       "(150, 1)"
      ]
     },
     "execution_count": 33,
     "metadata": {},
     "output_type": "execute_result"
    }
   ],
   "source": [
    "df_resample.shape"
   ]
  },
  {
   "cell_type": "code",
   "execution_count": 34,
   "metadata": {},
   "outputs": [],
   "source": [
    "timeLatency = df_resample.time_latency.values"
   ]
  },
  {
   "cell_type": "code",
   "execution_count": 35,
   "metadata": {},
   "outputs": [],
   "source": [
    "ticks = range(len(timeLatency))"
   ]
  },
  {
   "cell_type": "code",
   "execution_count": 36,
   "metadata": {
    "scrolled": false
   },
   "outputs": [
    {
     "data": {
      "text/plain": [
       "Text(0, 0.5, 'Latency time')"
      ]
     },
     "execution_count": 36,
     "metadata": {},
     "output_type": "execute_result"
    },
    {
     "data": {
      "image/png": "[encoded data removed]",
      "text/plain": [
       "<Figure size 432x288 with 1 Axes>"
      ]
     },
     "metadata": {
      "needs_background": "light"
     },
     "output_type": "display_data"
    }
   ],
   "source": [
    "fig = plt.figure()\n",
    "ax1 = fig.add_subplot(111)\n",
    "ax1.plot(ticks, timeLatency, '-')\n",
    "ax1.set_ylim(timeLatency.min()-0.5,timeLatency.max()+0.5)\n",
    "ax1.set_xlabel(\"Simulation time\", fontsize=16)\n",
    "ax1.set_ylabel(\"Latency time\", fontsize=16)"
   ]
  },
  {
   "cell_type": "markdown",
   "metadata": {},
   "source": [
    "# Hop Count"
   ]
  },
  {
   "cell_type": "code",
   "execution_count": 37,
   "metadata": {},
   "outputs": [],
   "source": [
    "# Hop count\n",
    "cache_distance = {}"
   ]
  },
  {
   "cell_type": "code",
   "execution_count": 39,
   "metadata": {},
   "outputs": [],
   "source": [
    "G = nx.read_graphml('results/graph_binomial_tree_5')"
   ]
  },
  {
   "cell_type": "code",
   "execution_count": 40,
   "metadata": {},
   "outputs": [
    {
     "name": "stdout",
     "output_type": "stream",
     "text": [
      "['0', '1', '2', '3', '4', '5', '6', '7', '8', '9', '10', '12', '11', '13', '14', '15', '16', '17', '18', '20', '24', '19', '21', '22', '23', '25', '26', '28', '27', '29', '30', '31']\n"
     ]
    }
   ],
   "source": [
    "print(G.nodes())"
   ]
  },
  {
   "cell_type": "code",
   "execution_count": 41,
   "metadata": {},
   "outputs": [],
   "source": [
    "def compute_distance(k):\n",
    "    return nx.shortest_path_length(G,str(k[0]),str(k[1]))"
   ]
  },
  {
   "cell_type": "code",
   "execution_count": 42,
   "metadata": {},
   "outputs": [],
   "source": [
    "for row in df[[\"TOPO.src\",\"TOPO.dst\"]].iterrows():\n",
    "    k = (row[1][0],row[1][1])\n",
    "    if not k in cache_distance.keys():\n",
    "        cache_distance[k] = compute_distance(k)"
   ]
  },
  {
   "cell_type": "code",
   "execution_count": 43,
   "metadata": {},
   "outputs": [
    {
     "name": "stdout",
     "output_type": "stream",
     "text": [
      "Counter({3: 4, 2: 2, 1: 2, 4: 1, 0: 1})\n"
     ]
    }
   ],
   "source": [
    "x = cache_distance.values() \n",
    "counter = collections.Counter(x)\n",
    "print(counter)"
   ]
  },
  {
   "cell_type": "code",
   "execution_count": 50,
   "metadata": {},
   "outputs": [],
   "source": [
    "data_a = {}\n",
    "for k in range(6):\n",
    "    data_a[k] = counter[k]"
   ]
  },
  {
   "cell_type": "code",
   "execution_count": 51,
   "metadata": {
    "scrolled": true
   },
   "outputs": [
    {
     "data": {
      "text/plain": [
       "{0: 1, 1: 2, 2: 2, 3: 4, 4: 1, 5: 0}"
      ]
     },
     "execution_count": 51,
     "metadata": {},
     "output_type": "execute_result"
    }
   ],
   "source": [
    "data_a"
   ]
  },
  {
   "cell_type": "code",
   "execution_count": 52,
   "metadata": {},
   "outputs": [],
   "source": [
    "data_a = data_a.values()"
   ]
  },
  {
   "cell_type": "code",
   "execution_count": 53,
   "metadata": {},
   "outputs": [],
   "source": [
    "ticks = range(6)"
   ]
  },
  {
   "cell_type": "code",
   "execution_count": 54,
   "metadata": {},
   "outputs": [],
   "source": [
    "N = len(ticks)\n",
    "ind = np.array(ticks)\n",
    "width = 0.45"
   ]
  },
  {
   "cell_type": "code",
   "execution_count": 55,
   "metadata": {
    "scrolled": true
   },
   "outputs": [
    {
     "data": {
      "image/png": "[encoded data removed]",
      "text/plain": [
       "<Figure size 576x288 with 1 Axes>"
      ]
     },
     "metadata": {
      "needs_background": "light"
     },
     "output_type": "display_data"
    }
   ],
   "source": [
    "fig, ax = plt.subplots(figsize=(8.0,4.0))\n",
    "ax.get_xaxis().set_ticks(range(0, len(ticks) * 2, 2))\n",
    "r = ax.bar(ind, data_a, width, color='r')\n",
    "ax.set_xticks(ind+ width/2)\n",
    "ax.set_xticklabels(ticks, fontsize=12)\n",
    "#ax.set_title(\"App\")\n",
    "ax.set_xlim(-width, len(ticks))\n",
    "ax.plot([], c='#a6bddb', label=\"No LABEL\",linewidth=3)\n",
    "ax.set_xlabel(\"Hop count among services\", fontsize=18)\n",
    "ax.set_ylabel(\"Quantity\", fontsize=20)\n",
    "plt.legend([r],['No label'],loc=\"upper right\",fontsize=14)\n",
    "plt.tight_layout()"
   ]
  },
  {
   "cell_type": "code",
   "execution_count": null,
   "metadata": {},
   "outputs": [],
   "source": []
  }
 ],
 "metadata": {
  "kernelspec": {
   "display_name": "Python 3",
   "language": "python",
   "name": "python3"
  },
  "language_info": {
   "codemirror_mode": {
    "name": "ipython",
    "version": 3
   },
   "file_extension": ".py",
   "mimetype": "text/x-python",
   "name": "python",
   "nbconvert_exporter": "python",
   "pygments_lexer": "ipython3",
   "version": "3.8.3"
  }
 },
 "nbformat": 4,
 "nbformat_minor": 4
}
