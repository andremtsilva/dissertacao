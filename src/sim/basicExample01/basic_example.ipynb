{
 "cells": [
  {
   "cell_type": "code",
   "execution_count": 1,
   "metadata": {},
   "outputs": [],
   "source": [
    "import pandas as pd\n",
    "import matplotlib.pyplot as plt\n",
    "import networkx as nx\n",
    "import collections\n",
    "import numpy as np"
   ]
  },
  {
   "cell_type": "code",
   "execution_count": 2,
   "metadata": {},
   "outputs": [],
   "source": [
    "df = pd.read_csv('results/sim_trace.csv')"
   ]
  },
  {
   "cell_type": "code",
   "execution_count": 3,
   "metadata": {},
   "outputs": [
    {
     "name": "stdout",
     "output_type": "stream",
     "text": [
      "<class 'pandas.core.frame.DataFrame'>\n",
      "RangeIndex: 4 entries, 0 to 3\n",
      "Data columns (total 15 columns):\n",
      " #   Column          Non-Null Count  Dtype  \n",
      "---  ------          --------------  -----  \n",
      " 0   id              4 non-null      int64  \n",
      " 1   type            4 non-null      object \n",
      " 2   app             4 non-null      int64  \n",
      " 3   module          4 non-null      object \n",
      " 4   message         4 non-null      object \n",
      " 5   DES.src         4 non-null      int64  \n",
      " 6   DES.dst         4 non-null      int64  \n",
      " 7   TOPO.src        4 non-null      int64  \n",
      " 8   TOPO.dst        4 non-null      int64  \n",
      " 9   module.src      4 non-null      object \n",
      " 10  service         4 non-null      float64\n",
      " 11  time_in         4 non-null      float64\n",
      " 12  time_out        4 non-null      float64\n",
      " 13  time_emit       4 non-null      float64\n",
      " 14  time_reception  4 non-null      float64\n",
      "dtypes: float64(5), int64(6), object(4)\n",
      "memory usage: 608.0+ bytes\n"
     ]
    }
   ],
   "source": [
    "df.info()"
   ]
  },
  {
   "cell_type": "code",
   "execution_count": 4,
   "metadata": {},
   "outputs": [],
   "source": [
    "df[\"time_latency\"] = df[\"time_reception\"] - df[\"time_emit\"]\n",
    "df[\"time_wait\"] = df[\"time_in\"] - df[\"time_reception\"]  \n",
    "df[\"time_service\"] = df[\"time_out\"] - df[\"time_in\"]\n",
    "df[\"time_response\"] = df[\"time_out\"] - df[\"time_reception\"]\n",
    "df[\"time_total_response\"] = df[\"time_response\"] + df[\"time_latency\"]"
   ]
  },
  {
   "cell_type": "code",
   "execution_count": 5,
   "metadata": {},
   "outputs": [],
   "source": [
    "# convert index to date type in order to use resample and agreegate functions of pandas\n",
    "df[\"date\"]=df.time_in.astype('datetime64[s]')\n",
    "df.index = df.date"
   ]
  },
  {
   "cell_type": "code",
   "execution_count": 6,
   "metadata": {},
   "outputs": [
    {
     "data": {
      "text/html": [
       "<div>\n",
       "<style scoped>\n",
       "    .dataframe tbody tr th:only-of-type {\n",
       "        vertical-align: middle;\n",
       "    }\n",
       "\n",
       "    .dataframe tbody tr th {\n",
       "        vertical-align: top;\n",
       "    }\n",
       "\n",
       "    .dataframe thead th {\n",
       "        text-align: right;\n",
       "    }\n",
       "</style>\n",
       "<table border=\"1\" class=\"dataframe\">\n",
       "  <thead>\n",
       "    <tr style=\"text-align: right;\">\n",
       "      <th></th>\n",
       "      <th>id</th>\n",
       "      <th>type</th>\n",
       "      <th>app</th>\n",
       "      <th>module</th>\n",
       "      <th>message</th>\n",
       "      <th>DES.src</th>\n",
       "      <th>DES.dst</th>\n",
       "      <th>TOPO.src</th>\n",
       "      <th>TOPO.dst</th>\n",
       "      <th>module.src</th>\n",
       "      <th>...</th>\n",
       "      <th>time_in</th>\n",
       "      <th>time_out</th>\n",
       "      <th>time_emit</th>\n",
       "      <th>time_reception</th>\n",
       "      <th>time_latency</th>\n",
       "      <th>time_wait</th>\n",
       "      <th>time_service</th>\n",
       "      <th>time_response</th>\n",
       "      <th>time_total_response</th>\n",
       "      <th>date</th>\n",
       "    </tr>\n",
       "    <tr>\n",
       "      <th>date</th>\n",
       "      <th></th>\n",
       "      <th></th>\n",
       "      <th></th>\n",
       "      <th></th>\n",
       "      <th></th>\n",
       "      <th></th>\n",
       "      <th></th>\n",
       "      <th></th>\n",
       "      <th></th>\n",
       "      <th></th>\n",
       "      <th></th>\n",
       "      <th></th>\n",
       "      <th></th>\n",
       "      <th></th>\n",
       "      <th></th>\n",
       "      <th></th>\n",
       "      <th></th>\n",
       "      <th></th>\n",
       "      <th></th>\n",
       "      <th></th>\n",
       "      <th></th>\n",
       "    </tr>\n",
       "  </thead>\n",
       "  <tbody>\n",
       "    <tr>\n",
       "      <th>1970-01-01 00:01:41</th>\n",
       "      <td>1</td>\n",
       "      <td>COMP_M</td>\n",
       "      <td>0</td>\n",
       "      <td>0_01</td>\n",
       "      <td>M.USER.APP.0</td>\n",
       "      <td>0</td>\n",
       "      <td>4</td>\n",
       "      <td>1</td>\n",
       "      <td>0</td>\n",
       "      <td>None</td>\n",
       "      <td>...</td>\n",
       "      <td>101.000020</td>\n",
       "      <td>101.042877</td>\n",
       "      <td>100.0</td>\n",
       "      <td>101.00002</td>\n",
       "      <td>1.00002</td>\n",
       "      <td>0.000000</td>\n",
       "      <td>0.042857</td>\n",
       "      <td>0.042857</td>\n",
       "      <td>1.042877</td>\n",
       "      <td>1970-01-01 00:01:41</td>\n",
       "    </tr>\n",
       "    <tr>\n",
       "      <th>1970-01-01 00:01:41</th>\n",
       "      <td>4</td>\n",
       "      <td>COMP_M</td>\n",
       "      <td>0</td>\n",
       "      <td>0_01</td>\n",
       "      <td>M.USER.APP.0</td>\n",
       "      <td>3</td>\n",
       "      <td>4</td>\n",
       "      <td>4</td>\n",
       "      <td>0</td>\n",
       "      <td>None</td>\n",
       "      <td>...</td>\n",
       "      <td>101.042877</td>\n",
       "      <td>101.085734</td>\n",
       "      <td>100.0</td>\n",
       "      <td>101.00002</td>\n",
       "      <td>1.00002</td>\n",
       "      <td>0.042857</td>\n",
       "      <td>0.042857</td>\n",
       "      <td>0.085714</td>\n",
       "      <td>1.085734</td>\n",
       "      <td>1970-01-01 00:01:41</td>\n",
       "    </tr>\n",
       "    <tr>\n",
       "      <th>1970-01-01 00:01:42</th>\n",
       "      <td>2</td>\n",
       "      <td>COMP_M</td>\n",
       "      <td>0</td>\n",
       "      <td>0_01</td>\n",
       "      <td>M.USER.APP.0</td>\n",
       "      <td>1</td>\n",
       "      <td>4</td>\n",
       "      <td>2</td>\n",
       "      <td>0</td>\n",
       "      <td>None</td>\n",
       "      <td>...</td>\n",
       "      <td>102.000040</td>\n",
       "      <td>102.042897</td>\n",
       "      <td>100.0</td>\n",
       "      <td>102.00004</td>\n",
       "      <td>2.00004</td>\n",
       "      <td>0.000000</td>\n",
       "      <td>0.042857</td>\n",
       "      <td>0.042857</td>\n",
       "      <td>2.042897</td>\n",
       "      <td>1970-01-01 00:01:42</td>\n",
       "    </tr>\n",
       "    <tr>\n",
       "      <th>1970-01-01 00:01:43</th>\n",
       "      <td>3</td>\n",
       "      <td>COMP_M</td>\n",
       "      <td>0</td>\n",
       "      <td>0_01</td>\n",
       "      <td>M.USER.APP.0</td>\n",
       "      <td>2</td>\n",
       "      <td>4</td>\n",
       "      <td>3</td>\n",
       "      <td>0</td>\n",
       "      <td>None</td>\n",
       "      <td>...</td>\n",
       "      <td>103.000060</td>\n",
       "      <td>103.042917</td>\n",
       "      <td>100.0</td>\n",
       "      <td>103.00006</td>\n",
       "      <td>3.00006</td>\n",
       "      <td>0.000000</td>\n",
       "      <td>0.042857</td>\n",
       "      <td>0.042857</td>\n",
       "      <td>3.042917</td>\n",
       "      <td>1970-01-01 00:01:43</td>\n",
       "    </tr>\n",
       "  </tbody>\n",
       "</table>\n",
       "<p>4 rows × 21 columns</p>\n",
       "</div>"
      ],
      "text/plain": [
       "                     id    type  app module       message  DES.src  DES.dst  \\\n",
       "date                                                                          \n",
       "1970-01-01 00:01:41   1  COMP_M    0   0_01  M.USER.APP.0        0        4   \n",
       "1970-01-01 00:01:41   4  COMP_M    0   0_01  M.USER.APP.0        3        4   \n",
       "1970-01-01 00:01:42   2  COMP_M    0   0_01  M.USER.APP.0        1        4   \n",
       "1970-01-01 00:01:43   3  COMP_M    0   0_01  M.USER.APP.0        2        4   \n",
       "\n",
       "                     TOPO.src  TOPO.dst module.src  ...     time_in  \\\n",
       "date                                                ...               \n",
       "1970-01-01 00:01:41         1         0       None  ...  101.000020   \n",
       "1970-01-01 00:01:41         4         0       None  ...  101.042877   \n",
       "1970-01-01 00:01:42         2         0       None  ...  102.000040   \n",
       "1970-01-01 00:01:43         3         0       None  ...  103.000060   \n",
       "\n",
       "                       time_out  time_emit  time_reception  time_latency  \\\n",
       "date                                                                       \n",
       "1970-01-01 00:01:41  101.042877      100.0       101.00002       1.00002   \n",
       "1970-01-01 00:01:41  101.085734      100.0       101.00002       1.00002   \n",
       "1970-01-01 00:01:42  102.042897      100.0       102.00004       2.00004   \n",
       "1970-01-01 00:01:43  103.042917      100.0       103.00006       3.00006   \n",
       "\n",
       "                     time_wait  time_service  time_response  \\\n",
       "date                                                          \n",
       "1970-01-01 00:01:41   0.000000      0.042857       0.042857   \n",
       "1970-01-01 00:01:41   0.042857      0.042857       0.085714   \n",
       "1970-01-01 00:01:42   0.000000      0.042857       0.042857   \n",
       "1970-01-01 00:01:43   0.000000      0.042857       0.042857   \n",
       "\n",
       "                     time_total_response                date  \n",
       "date                                                          \n",
       "1970-01-01 00:01:41             1.042877 1970-01-01 00:01:41  \n",
       "1970-01-01 00:01:41             1.085734 1970-01-01 00:01:41  \n",
       "1970-01-01 00:01:42             2.042897 1970-01-01 00:01:42  \n",
       "1970-01-01 00:01:43             3.042917 1970-01-01 00:01:43  \n",
       "\n",
       "[4 rows x 21 columns]"
      ]
     },
     "execution_count": 6,
     "metadata": {},
     "output_type": "execute_result"
    }
   ],
   "source": [
    "df.head(10)"
   ]
  },
  {
   "cell_type": "code",
   "execution_count": 7,
   "metadata": {},
   "outputs": [],
   "source": [
    "df_resample = df.resample('100s').agg(dict(time_latency='mean'))"
   ]
  },
  {
   "cell_type": "code",
   "execution_count": 8,
   "metadata": {},
   "outputs": [
    {
     "data": {
      "text/plain": [
       "(1, 1)"
      ]
     },
     "execution_count": 8,
     "metadata": {},
     "output_type": "execute_result"
    }
   ],
   "source": [
    "df_resample.shape"
   ]
  },
  {
   "cell_type": "code",
   "execution_count": 9,
   "metadata": {},
   "outputs": [],
   "source": [
    "timeLatency = df_resample.time_latency.values"
   ]
  },
  {
   "cell_type": "code",
   "execution_count": 10,
   "metadata": {},
   "outputs": [],
   "source": [
    "ticks = range(len(timeLatency))"
   ]
  },
  {
   "cell_type": "code",
   "execution_count": 11,
   "metadata": {},
   "outputs": [
    {
     "data": {
      "text/plain": [
       "Text(0, 0.5, 'Latency time')"
      ]
     },
     "execution_count": 11,
     "metadata": {},
     "output_type": "execute_result"
    },
    {
     "data": {
      "image/png": "[encoded data removed]",
      "text/plain": [
       "<Figure size 432x288 with 1 Axes>"
      ]
     },
     "metadata": {
      "needs_background": "light"
     },
     "output_type": "display_data"
    }
   ],
   "source": [
    "fig = plt.figure()\n",
    "ax1 = fig.add_subplot(111)\n",
    "ax1.plot(ticks, timeLatency, '-')\n",
    "ax1.set_ylim(timeLatency.min()-0.5,6)#timeLatency.max()+0.5)\n",
    "ax1.set_xlabel(\"Simulation time\", fontsize=16)\n",
    "ax1.set_ylabel(\"Latency time\", fontsize=16)"
   ]
  },
  {
   "cell_type": "markdown",
   "metadata": {},
   "source": [
    "# Latency"
   ]
  },
  {
   "cell_type": "code",
   "execution_count": 12,
   "metadata": {},
   "outputs": [],
   "source": [
    "df_resample = df.resample('100s').agg(dict(time_latency='mean'))"
   ]
  },
  {
   "cell_type": "code",
   "execution_count": 13,
   "metadata": {},
   "outputs": [
    {
     "data": {
      "text/plain": [
       "(1, 1)"
      ]
     },
     "execution_count": 13,
     "metadata": {},
     "output_type": "execute_result"
    }
   ],
   "source": [
    "df_resample.shape"
   ]
  },
  {
   "cell_type": "code",
   "execution_count": 14,
   "metadata": {},
   "outputs": [],
   "source": [
    "timeLatency = df_resample.time_latency.values"
   ]
  },
  {
   "cell_type": "code",
   "execution_count": 15,
   "metadata": {},
   "outputs": [],
   "source": [
    "ticks = range(len(timeLatency))"
   ]
  },
  {
   "cell_type": "code",
   "execution_count": 16,
   "metadata": {},
   "outputs": [
    {
     "data": {
      "text/plain": [
       "Text(0, 0.5, 'Latency time')"
      ]
     },
     "execution_count": 16,
     "metadata": {},
     "output_type": "execute_result"
    },
    {
     "data": {
      "image/png": "[encoded data removed]",
      "text/plain": [
       "<Figure size 432x288 with 1 Axes>"
      ]
     },
     "metadata": {
      "needs_background": "light"
     },
     "output_type": "display_data"
    }
   ],
   "source": [
    "fig = plt.figure()\n",
    "ax1 = fig.add_subplot(111)\n",
    "ax1.plot(ticks, timeLatency, '-')\n",
    "ax1.set_ylim(timeLatency.min()-0.5,6)#timeLatency.max()+0.5)\n",
    "ax1.set_xlabel(\"Simulation time\", fontsize=16)\n",
    "ax1.set_ylabel(\"Latency time\", fontsize=16)"
   ]
  },
  {
   "cell_type": "markdown",
   "metadata": {},
   "source": [
    "# Hop Count"
   ]
  },
  {
   "cell_type": "code",
   "execution_count": 17,
   "metadata": {},
   "outputs": [],
   "source": [
    "# Hop count\n",
    "cache_distance = {}"
   ]
  },
  {
   "cell_type": "code",
   "execution_count": 18,
   "metadata": {},
   "outputs": [],
   "source": [
    "G = nx.read_graphml('results/graph.graphml')"
   ]
  },
  {
   "cell_type": "code",
   "execution_count": 19,
   "metadata": {},
   "outputs": [
    {
     "name": "stdout",
     "output_type": "stream",
     "text": [
      "['0', '1', '2', '3', '4']\n"
     ]
    }
   ],
   "source": [
    "print(G.nodes())"
   ]
  },
  {
   "cell_type": "code",
   "execution_count": 20,
   "metadata": {},
   "outputs": [],
   "source": [
    "def compute_distance(k):\n",
    "    return nx.shortest_path_length(G,str(k[0]),str(k[1]))"
   ]
  },
  {
   "cell_type": "code",
   "execution_count": 21,
   "metadata": {},
   "outputs": [],
   "source": [
    "for row in df[[\"TOPO.src\",\"TOPO.dst\"]].iterrows():\n",
    "    k = (row[1][0],row[1][1])\n",
    "    if not k in cache_distance.keys():\n",
    "        cache_distance[k] = compute_distance(k)"
   ]
  },
  {
   "cell_type": "code",
   "execution_count": 22,
   "metadata": {},
   "outputs": [
    {
     "name": "stdout",
     "output_type": "stream",
     "text": [
      "Counter({1: 2, 2: 2})\n"
     ]
    }
   ],
   "source": [
    "x = cache_distance.values() \n",
    "counter = collections.Counter(x)\n",
    "print(counter)"
   ]
  },
  {
   "cell_type": "code",
   "execution_count": 23,
   "metadata": {},
   "outputs": [],
   "source": [
    "data_a = {}\n",
    "for k in range(5):\n",
    "    data_a[k] = counter[k]"
   ]
  },
  {
   "cell_type": "code",
   "execution_count": 24,
   "metadata": {},
   "outputs": [
    {
     "data": {
      "text/plain": [
       "{0: 0, 1: 2, 2: 2, 3: 0, 4: 0}"
      ]
     },
     "execution_count": 24,
     "metadata": {},
     "output_type": "execute_result"
    }
   ],
   "source": [
    "data_a"
   ]
  },
  {
   "cell_type": "code",
   "execution_count": 25,
   "metadata": {},
   "outputs": [],
   "source": [
    "data_a = data_a.values()"
   ]
  },
  {
   "cell_type": "code",
   "execution_count": 26,
   "metadata": {},
   "outputs": [],
   "source": [
    "ticks = range(5)"
   ]
  },
  {
   "cell_type": "code",
   "execution_count": 27,
   "metadata": {},
   "outputs": [],
   "source": [
    "N = len(ticks)\n",
    "ind = np.array(ticks)\n",
    "width = 0.45"
   ]
  },
  {
   "cell_type": "code",
   "execution_count": 28,
   "metadata": {},
   "outputs": [
    {
     "data": {
      "image/png": "[encoded data removed]",
      "text/plain": [
       "<Figure size 576x288 with 1 Axes>"
      ]
     },
     "metadata": {
      "needs_background": "light"
     },
     "output_type": "display_data"
    }
   ],
   "source": [
    "fig, ax = plt.subplots(figsize=(8.0,4.0))\n",
    "ax.get_xaxis().set_ticks(range(0, len(ticks) * 2, 2))\n",
    "r = ax.bar(ind, data_a, width, color='r')\n",
    "ax.set_xticks(ind+ width/2)\n",
    "ax.set_xticklabels(ticks, fontsize=12)\n",
    "ax.set_title(\"App\")\n",
    "ax.set_xlim(-width, len(ticks))\n",
    "ax.plot([], c='#a6bddb', label=\"No LABEL\",linewidth=3)\n",
    "ax.set_xlabel(\"Hop count among services\", fontsize=18)\n",
    "ax.set_ylabel(\"Quantity\", fontsize=20)\n",
    "plt.legend([r],['No label'],loc=\"upper right\",fontsize=14)\n",
    "plt.tight_layout()"
   ]
  },
  {
   "cell_type": "code",
   "execution_count": null,
   "metadata": {},
   "outputs": [],
   "source": []
  },
  {
   "cell_type": "code",
   "execution_count": 29,
   "metadata": {},
   "outputs": [],
   "source": [
    "df_link = pd.read_csv('results/sim_trace_link.csv')"
   ]
  },
  {
   "cell_type": "code",
   "execution_count": 30,
   "metadata": {},
   "outputs": [
    {
     "data": {
      "text/html": [
       "<div>\n",
       "<style scoped>\n",
       "    .dataframe tbody tr th:only-of-type {\n",
       "        vertical-align: middle;\n",
       "    }\n",
       "\n",
       "    .dataframe tbody tr th {\n",
       "        vertical-align: top;\n",
       "    }\n",
       "\n",
       "    .dataframe thead th {\n",
       "        text-align: right;\n",
       "    }\n",
       "</style>\n",
       "<table border=\"1\" class=\"dataframe\">\n",
       "  <thead>\n",
       "    <tr style=\"text-align: right;\">\n",
       "      <th></th>\n",
       "      <th>id</th>\n",
       "      <th>type</th>\n",
       "      <th>src</th>\n",
       "      <th>dst</th>\n",
       "      <th>app</th>\n",
       "      <th>latency</th>\n",
       "      <th>message</th>\n",
       "      <th>ctime</th>\n",
       "      <th>size</th>\n",
       "      <th>buffer</th>\n",
       "    </tr>\n",
       "  </thead>\n",
       "  <tbody>\n",
       "    <tr>\n",
       "      <th>0</th>\n",
       "      <td>1</td>\n",
       "      <td>LINK</td>\n",
       "      <td>1</td>\n",
       "      <td>0</td>\n",
       "      <td>0</td>\n",
       "      <td>1.00002</td>\n",
       "      <td>M.USER.APP.0</td>\n",
       "      <td>100.00000</td>\n",
       "      <td>20</td>\n",
       "      <td>0</td>\n",
       "    </tr>\n",
       "    <tr>\n",
       "      <th>1</th>\n",
       "      <td>2</td>\n",
       "      <td>LINK</td>\n",
       "      <td>2</td>\n",
       "      <td>1</td>\n",
       "      <td>0</td>\n",
       "      <td>1.00002</td>\n",
       "      <td>M.USER.APP.0</td>\n",
       "      <td>100.00000</td>\n",
       "      <td>20</td>\n",
       "      <td>1</td>\n",
       "    </tr>\n",
       "    <tr>\n",
       "      <th>2</th>\n",
       "      <td>3</td>\n",
       "      <td>LINK</td>\n",
       "      <td>3</td>\n",
       "      <td>1</td>\n",
       "      <td>0</td>\n",
       "      <td>1.00002</td>\n",
       "      <td>M.USER.APP.0</td>\n",
       "      <td>100.00000</td>\n",
       "      <td>20</td>\n",
       "      <td>2</td>\n",
       "    </tr>\n",
       "    <tr>\n",
       "      <th>3</th>\n",
       "      <td>4</td>\n",
       "      <td>LINK</td>\n",
       "      <td>4</td>\n",
       "      <td>0</td>\n",
       "      <td>0</td>\n",
       "      <td>1.00002</td>\n",
       "      <td>M.USER.APP.0</td>\n",
       "      <td>100.00000</td>\n",
       "      <td>20</td>\n",
       "      <td>3</td>\n",
       "    </tr>\n",
       "    <tr>\n",
       "      <th>4</th>\n",
       "      <td>2</td>\n",
       "      <td>LINK</td>\n",
       "      <td>1</td>\n",
       "      <td>0</td>\n",
       "      <td>0</td>\n",
       "      <td>1.00002</td>\n",
       "      <td>M.USER.APP.0</td>\n",
       "      <td>101.00002</td>\n",
       "      <td>20</td>\n",
       "      <td>0</td>\n",
       "    </tr>\n",
       "    <tr>\n",
       "      <th>5</th>\n",
       "      <td>3</td>\n",
       "      <td>LINK</td>\n",
       "      <td>1</td>\n",
       "      <td>0</td>\n",
       "      <td>0</td>\n",
       "      <td>1.00002</td>\n",
       "      <td>M.USER.APP.0</td>\n",
       "      <td>101.00002</td>\n",
       "      <td>20</td>\n",
       "      <td>1</td>\n",
       "    </tr>\n",
       "  </tbody>\n",
       "</table>\n",
       "</div>"
      ],
      "text/plain": [
       "   id  type  src  dst  app  latency       message      ctime  size  buffer\n",
       "0   1  LINK    1    0    0  1.00002  M.USER.APP.0  100.00000    20       0\n",
       "1   2  LINK    2    1    0  1.00002  M.USER.APP.0  100.00000    20       1\n",
       "2   3  LINK    3    1    0  1.00002  M.USER.APP.0  100.00000    20       2\n",
       "3   4  LINK    4    0    0  1.00002  M.USER.APP.0  100.00000    20       3\n",
       "4   2  LINK    1    0    0  1.00002  M.USER.APP.0  101.00002    20       0\n",
       "5   3  LINK    1    0    0  1.00002  M.USER.APP.0  101.00002    20       1"
      ]
     },
     "execution_count": 30,
     "metadata": {},
     "output_type": "execute_result"
    }
   ],
   "source": [
    "df_link.head(60)"
   ]
  },
  {
   "cell_type": "code",
   "execution_count": 31,
   "metadata": {},
   "outputs": [
    {
     "name": "stdout",
     "output_type": "stream",
     "text": [
      "total messages transmited = 6\n"
     ]
    }
   ],
   "source": [
    "total_messages = len(df_link)\n",
    "print(f'total messages transmited = {total_messages}')"
   ]
  },
  {
   "cell_type": "code",
   "execution_count": 32,
   "metadata": {},
   "outputs": [
    {
     "name": "stdout",
     "output_type": "stream",
     "text": [
      "total bytes transmited = 120\n"
     ]
    }
   ],
   "source": [
    "bytes_transmited = df_link[\"size\"].sum()\n",
    "print(f'total bytes transmited = {bytes_transmited}')"
   ]
  },
  {
   "cell_type": "code",
   "execution_count": 33,
   "metadata": {},
   "outputs": [],
   "source": [
    "def utilization(id_entity, total_time, from_time=0.0):\n",
    "        if \"time_service\" not in df.columns: #cached\n",
    "            df[\"time_service\"] = df.time_out - df.time_in\n",
    "        values = df.groupby(\"DES.dst\").time_service.agg(\"sum\")\n",
    "        return values[id_entity] / total_time"
   ]
  },
  {
   "cell_type": "code",
   "execution_count": 34,
   "metadata": {},
   "outputs": [],
   "source": [
    "values = df.groupby(\"DES.dst\").time_service.agg(\"sum\")"
   ]
  },
  {
   "cell_type": "code",
   "execution_count": 35,
   "metadata": {},
   "outputs": [
    {
     "data": {
      "text/plain": [
       "DES.dst\n",
       "4    0.171429\n",
       "Name: time_service, dtype: float64"
      ]
     },
     "execution_count": 35,
     "metadata": {},
     "output_type": "execute_result"
    }
   ],
   "source": [
    "values"
   ]
  },
  {
   "cell_type": "code",
   "execution_count": null,
   "metadata": {},
   "outputs": [],
   "source": []
  },
  {
   "cell_type": "code",
   "execution_count": null,
   "metadata": {},
   "outputs": [],
   "source": []
  }
 ],
 "metadata": {
  "kernelspec": {
   "display_name": "Python 3",
   "language": "python",
   "name": "python3"
  },
  "language_info": {
   "codemirror_mode": {
    "name": "ipython",
    "version": 3
   },
   "file_extension": ".py",
   "mimetype": "text/x-python",
   "name": "python",
   "nbconvert_exporter": "python",
   "pygments_lexer": "ipython3",
   "version": "3.8.3"
  }
 },
 "nbformat": 4,
 "nbformat_minor": 4
}
