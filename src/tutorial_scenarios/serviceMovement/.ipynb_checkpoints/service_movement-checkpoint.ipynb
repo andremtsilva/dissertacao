{
 "cells": [
  {
   "cell_type": "code",
   "execution_count": 1,
   "metadata": {},
   "outputs": [],
   "source": [
    "import pandas as pd\n",
    "import matplotlib.pyplot as plt"
   ]
  },
  {
   "cell_type": "code",
   "execution_count": 2,
   "metadata": {},
   "outputs": [],
   "source": [
    "df = pd.read_csv('results/sim_trace.csv')"
   ]
  },
  {
   "cell_type": "code",
   "execution_count": 3,
   "metadata": {},
   "outputs": [
    {
     "name": "stdout",
     "output_type": "stream",
     "text": [
      "<class 'pandas.core.frame.DataFrame'>\n",
      "RangeIndex: 796 entries, 0 to 795\n",
      "Data columns (total 15 columns):\n",
      "id                796 non-null int64\n",
      "type              796 non-null object\n",
      "app               796 non-null int64\n",
      "module            796 non-null object\n",
      "message           796 non-null object\n",
      "DES.src           796 non-null int64\n",
      "DES.dst           796 non-null int64\n",
      "TOPO.src          796 non-null int64\n",
      "TOPO.dst          796 non-null int64\n",
      "module.src        796 non-null object\n",
      "service           796 non-null float64\n",
      "time_in           796 non-null float64\n",
      "time_out          796 non-null float64\n",
      "time_emit         796 non-null float64\n",
      "time_reception    796 non-null float64\n",
      "dtypes: float64(5), int64(6), object(4)\n",
      "memory usage: 93.4+ KB\n"
     ]
    }
   ],
   "source": [
    "df.info()"
   ]
  },
  {
   "cell_type": "code",
   "execution_count": 4,
   "metadata": {},
   "outputs": [],
   "source": [
    "df[\"time_latency\"] = df[\"time_reception\"] - df[\"time_emit\"]\n",
    "df[\"time_wait\"] = df[\"time_in\"] - df[\"time_reception\"]  \n",
    "df[\"time_service\"] = df[\"time_out\"] - df[\"time_in\"]\n",
    "df[\"time_response\"] = df[\"time_out\"] - df[\"time_reception\"]\n",
    "df[\"time_total_response\"] = df[\"time_response\"] + df[\"time_latency\"]"
   ]
  },
  {
   "cell_type": "code",
   "execution_count": 5,
   "metadata": {},
   "outputs": [],
   "source": [
    "# convert index to date type in order to use resample and agreegate functions of pandas\n",
    "df[\"date\"]=df.time_in.astype('datetime64[s]')\n",
    "df.index = df.date"
   ]
  },
  {
   "cell_type": "code",
   "execution_count": 11,
   "metadata": {},
   "outputs": [
    {
     "data": {
      "text/html": [
       "<div>\n",
       "<style scoped>\n",
       "    .dataframe tbody tr th:only-of-type {\n",
       "        vertical-align: middle;\n",
       "    }\n",
       "\n",
       "    .dataframe tbody tr th {\n",
       "        vertical-align: top;\n",
       "    }\n",
       "\n",
       "    .dataframe thead th {\n",
       "        text-align: right;\n",
       "    }\n",
       "</style>\n",
       "<table border=\"1\" class=\"dataframe\">\n",
       "  <thead>\n",
       "    <tr style=\"text-align: right;\">\n",
       "      <th></th>\n",
       "      <th>id</th>\n",
       "      <th>type</th>\n",
       "      <th>app</th>\n",
       "      <th>module</th>\n",
       "      <th>message</th>\n",
       "      <th>DES.src</th>\n",
       "      <th>DES.dst</th>\n",
       "      <th>TOPO.src</th>\n",
       "      <th>TOPO.dst</th>\n",
       "      <th>module.src</th>\n",
       "      <th>...</th>\n",
       "      <th>time_in</th>\n",
       "      <th>time_out</th>\n",
       "      <th>time_emit</th>\n",
       "      <th>time_reception</th>\n",
       "      <th>time_latency</th>\n",
       "      <th>time_wait</th>\n",
       "      <th>time_service</th>\n",
       "      <th>time_response</th>\n",
       "      <th>time_total_response</th>\n",
       "      <th>date</th>\n",
       "    </tr>\n",
       "    <tr>\n",
       "      <th>date</th>\n",
       "      <th></th>\n",
       "      <th></th>\n",
       "      <th></th>\n",
       "      <th></th>\n",
       "      <th></th>\n",
       "      <th></th>\n",
       "      <th></th>\n",
       "      <th></th>\n",
       "      <th></th>\n",
       "      <th></th>\n",
       "      <th></th>\n",
       "      <th></th>\n",
       "      <th></th>\n",
       "      <th></th>\n",
       "      <th></th>\n",
       "      <th></th>\n",
       "      <th></th>\n",
       "      <th></th>\n",
       "      <th></th>\n",
       "      <th></th>\n",
       "      <th></th>\n",
       "    </tr>\n",
       "  </thead>\n",
       "  <tbody>\n",
       "    <tr>\n",
       "      <th>1970-01-01 00:01:41</th>\n",
       "      <td>1</td>\n",
       "      <td>COMP_M</td>\n",
       "      <td>0</td>\n",
       "      <td>0_01</td>\n",
       "      <td>M.USER.APP.0</td>\n",
       "      <td>0</td>\n",
       "      <td>5</td>\n",
       "      <td>1</td>\n",
       "      <td>0</td>\n",
       "      <td>None</td>\n",
       "      <td>...</td>\n",
       "      <td>101.00002</td>\n",
       "      <td>101.30002</td>\n",
       "      <td>100.0</td>\n",
       "      <td>101.00002</td>\n",
       "      <td>1.00002</td>\n",
       "      <td>0.0</td>\n",
       "      <td>0.3</td>\n",
       "      <td>0.3</td>\n",
       "      <td>1.30002</td>\n",
       "      <td>1970-01-01 00:01:41</td>\n",
       "    </tr>\n",
       "    <tr>\n",
       "      <th>1970-01-01 00:01:41</th>\n",
       "      <td>2</td>\n",
       "      <td>COMP_M</td>\n",
       "      <td>1</td>\n",
       "      <td>1_01</td>\n",
       "      <td>M.USER.APP.1</td>\n",
       "      <td>1</td>\n",
       "      <td>6</td>\n",
       "      <td>2</td>\n",
       "      <td>0</td>\n",
       "      <td>None</td>\n",
       "      <td>...</td>\n",
       "      <td>101.00002</td>\n",
       "      <td>101.30002</td>\n",
       "      <td>100.0</td>\n",
       "      <td>101.00002</td>\n",
       "      <td>1.00002</td>\n",
       "      <td>0.0</td>\n",
       "      <td>0.3</td>\n",
       "      <td>0.3</td>\n",
       "      <td>1.30002</td>\n",
       "      <td>1970-01-01 00:01:41</td>\n",
       "    </tr>\n",
       "    <tr>\n",
       "      <th>1970-01-01 00:01:41</th>\n",
       "      <td>4</td>\n",
       "      <td>COMP_M</td>\n",
       "      <td>3</td>\n",
       "      <td>3_01</td>\n",
       "      <td>M.USER.APP.3</td>\n",
       "      <td>3</td>\n",
       "      <td>8</td>\n",
       "      <td>4</td>\n",
       "      <td>0</td>\n",
       "      <td>None</td>\n",
       "      <td>...</td>\n",
       "      <td>101.00002</td>\n",
       "      <td>101.30002</td>\n",
       "      <td>100.0</td>\n",
       "      <td>101.00002</td>\n",
       "      <td>1.00002</td>\n",
       "      <td>0.0</td>\n",
       "      <td>0.3</td>\n",
       "      <td>0.3</td>\n",
       "      <td>1.30002</td>\n",
       "      <td>1970-01-01 00:01:41</td>\n",
       "    </tr>\n",
       "    <tr>\n",
       "      <th>1970-01-01 00:01:42</th>\n",
       "      <td>3</td>\n",
       "      <td>COMP_M</td>\n",
       "      <td>2</td>\n",
       "      <td>2_01</td>\n",
       "      <td>M.USER.APP.2</td>\n",
       "      <td>2</td>\n",
       "      <td>7</td>\n",
       "      <td>3</td>\n",
       "      <td>0</td>\n",
       "      <td>None</td>\n",
       "      <td>...</td>\n",
       "      <td>102.00004</td>\n",
       "      <td>102.30004</td>\n",
       "      <td>100.0</td>\n",
       "      <td>102.00004</td>\n",
       "      <td>2.00004</td>\n",
       "      <td>0.0</td>\n",
       "      <td>0.3</td>\n",
       "      <td>0.3</td>\n",
       "      <td>2.30004</td>\n",
       "      <td>1970-01-01 00:01:42</td>\n",
       "    </tr>\n",
       "    <tr>\n",
       "      <th>1970-01-01 00:03:21</th>\n",
       "      <td>5</td>\n",
       "      <td>COMP_M</td>\n",
       "      <td>0</td>\n",
       "      <td>0_01</td>\n",
       "      <td>M.USER.APP.0</td>\n",
       "      <td>0</td>\n",
       "      <td>5</td>\n",
       "      <td>1</td>\n",
       "      <td>0</td>\n",
       "      <td>None</td>\n",
       "      <td>...</td>\n",
       "      <td>201.00002</td>\n",
       "      <td>201.30002</td>\n",
       "      <td>200.0</td>\n",
       "      <td>201.00002</td>\n",
       "      <td>1.00002</td>\n",
       "      <td>0.0</td>\n",
       "      <td>0.3</td>\n",
       "      <td>0.3</td>\n",
       "      <td>1.30002</td>\n",
       "      <td>1970-01-01 00:03:21</td>\n",
       "    </tr>\n",
       "  </tbody>\n",
       "</table>\n",
       "<p>5 rows × 21 columns</p>\n",
       "</div>"
      ],
      "text/plain": [
       "                     id    type  app module       message  DES.src  DES.dst  \\\n",
       "date                                                                          \n",
       "1970-01-01 00:01:41   1  COMP_M    0   0_01  M.USER.APP.0        0        5   \n",
       "1970-01-01 00:01:41   2  COMP_M    1   1_01  M.USER.APP.1        1        6   \n",
       "1970-01-01 00:01:41   4  COMP_M    3   3_01  M.USER.APP.3        3        8   \n",
       "1970-01-01 00:01:42   3  COMP_M    2   2_01  M.USER.APP.2        2        7   \n",
       "1970-01-01 00:03:21   5  COMP_M    0   0_01  M.USER.APP.0        0        5   \n",
       "\n",
       "                     TOPO.src  TOPO.dst module.src  ...    time_in   time_out  \\\n",
       "date                                                ...                         \n",
       "1970-01-01 00:01:41         1         0       None  ...  101.00002  101.30002   \n",
       "1970-01-01 00:01:41         2         0       None  ...  101.00002  101.30002   \n",
       "1970-01-01 00:01:41         4         0       None  ...  101.00002  101.30002   \n",
       "1970-01-01 00:01:42         3         0       None  ...  102.00004  102.30004   \n",
       "1970-01-01 00:03:21         1         0       None  ...  201.00002  201.30002   \n",
       "\n",
       "                     time_emit  time_reception  time_latency  time_wait  \\\n",
       "date                                                                      \n",
       "1970-01-01 00:01:41      100.0       101.00002       1.00002        0.0   \n",
       "1970-01-01 00:01:41      100.0       101.00002       1.00002        0.0   \n",
       "1970-01-01 00:01:41      100.0       101.00002       1.00002        0.0   \n",
       "1970-01-01 00:01:42      100.0       102.00004       2.00004        0.0   \n",
       "1970-01-01 00:03:21      200.0       201.00002       1.00002        0.0   \n",
       "\n",
       "                     time_service  time_response  time_total_response  \\\n",
       "date                                                                    \n",
       "1970-01-01 00:01:41           0.3            0.3              1.30002   \n",
       "1970-01-01 00:01:41           0.3            0.3              1.30002   \n",
       "1970-01-01 00:01:41           0.3            0.3              1.30002   \n",
       "1970-01-01 00:01:42           0.3            0.3              2.30004   \n",
       "1970-01-01 00:03:21           0.3            0.3              1.30002   \n",
       "\n",
       "                                   date  \n",
       "date                                     \n",
       "1970-01-01 00:01:41 1970-01-01 00:01:41  \n",
       "1970-01-01 00:01:41 1970-01-01 00:01:41  \n",
       "1970-01-01 00:01:41 1970-01-01 00:01:41  \n",
       "1970-01-01 00:01:42 1970-01-01 00:01:42  \n",
       "1970-01-01 00:03:21 1970-01-01 00:03:21  \n",
       "\n",
       "[5 rows x 21 columns]"
      ]
     },
     "execution_count": 11,
     "metadata": {},
     "output_type": "execute_result"
    }
   ],
   "source": [
    "df.head()"
   ]
  },
  {
   "cell_type": "code",
   "execution_count": 6,
   "metadata": {},
   "outputs": [],
   "source": [
    "df_resample = df.resample('100s').agg(dict(time_latency='mean'))"
   ]
  },
  {
   "cell_type": "code",
   "execution_count": 7,
   "metadata": {},
   "outputs": [
    {
     "data": {
      "text/plain": [
       "(199, 1)"
      ]
     },
     "execution_count": 7,
     "metadata": {},
     "output_type": "execute_result"
    }
   ],
   "source": [
    "df_resample.shape"
   ]
  },
  {
   "cell_type": "code",
   "execution_count": 8,
   "metadata": {},
   "outputs": [],
   "source": [
    "timeLatency = df_resample.time_latency.values"
   ]
  },
  {
   "cell_type": "code",
   "execution_count": 9,
   "metadata": {},
   "outputs": [],
   "source": [
    "ticks = range(len(timeLatency))"
   ]
  },
  {
   "cell_type": "code",
   "execution_count": 10,
   "metadata": {},
   "outputs": [
    {
     "data": {
      "text/plain": [
       "Text(0, 0.5, 'Latency time')"
      ]
     },
     "execution_count": 10,
     "metadata": {},
     "output_type": "execute_result"
    },
    {
     "data": {
      "image/png": "[encoded data removed]",
      "text/plain": [
       "<Figure size 432x288 with 1 Axes>"
      ]
     },
     "metadata": {
      "needs_background": "light"
     },
     "output_type": "display_data"
    }
   ],
   "source": [
    "fig = plt.figure()\n",
    "ax1 = fig.add_subplot(111)\n",
    "ax1.plot(ticks, timeLatency, '-')\n",
    "ax1.set_ylim(timeLatency.min()-0.5,6)#timeLatency.max()+0.5)\n",
    "ax1.set_xlabel(\"Simulation time\", fontsize=16)\n",
    "ax1.set_ylabel(\"Latency time\", fontsize=16)"
   ]
  },
  {
   "cell_type": "code",
   "execution_count": null,
   "metadata": {},
   "outputs": [],
   "source": []
  }
 ],
 "metadata": {
  "kernelspec": {
   "display_name": "Python 3",
   "language": "python",
   "name": "python3"
  },
  "language_info": {
   "codemirror_mode": {
    "name": "ipython",
    "version": 3
   },
   "file_extension": ".py",
   "mimetype": "text/x-python",
   "name": "python",
   "nbconvert_exporter": "python",
   "pygments_lexer": "ipython3",
   "version": "3.8.3"
  }
 },
 "nbformat": 4,
 "nbformat_minor": 4
}
